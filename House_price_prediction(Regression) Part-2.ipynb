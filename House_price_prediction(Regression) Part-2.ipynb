{
 "cells": [
  {
   "cell_type": "markdown",
   "id": "aa00bd8a",
   "metadata": {},
   "source": [
    "In this notebook we are load our preprocess data which we done in our previous part and now will train the model on different linear regression algorithms\n",
    "\n"
   ]
  },
  {
   "cell_type": "markdown",
   "id": "b4d2cb65",
   "metadata": {},
   "source": [
    "# Step 1: Import all the required libraries\n",
    "\n",
    "- Pandas : In computer programming, pandas is a software library written for the Python programming language for data manipulation and analysis and storing in a proper way. In particular, it offers data structures and operations for manipulating numerical tables and time series\n",
    "- Sklearn : Scikit-learn (formerly scikits.learn) is a free software machine learning library for the Python programming language. It features various classification, regression and clustering algorithms including support vector machines, random forests, gradient boosting, k-means and DBSCAN, and is designed to interoperate with the Python numerical and scientific libraries NumPy and SciPy. The library is built upon the SciPy (Scientific Python) that must be installed before you can use scikit-learn.\n",
    "- Pickle : Python pickle module is used for serializing and de-serializing a Python object structure. Pickling is a way to convert a python object (list, dict, etc.) into a character stream. The idea is that this character stream contains all the information necessary to reconstruct the object in another python script.\n",
    "- Seaborn : Seaborn is a Python data visualization library based on matplotlib. It provides a high-level interface for drawing attractive and informative statistical graphics."
   ]
  },
  {
   "cell_type": "code",
   "execution_count": 1,
   "id": "3c53d5c4",
   "metadata": {},
   "outputs": [],
   "source": [
    "# import all required libraries\n",
    "import numpy as np\n",
    "import pandas as pd\n",
    "from matplotlib.pyplot import figure\n",
    "import matplotlib.pyplot as plt\n",
    "from sklearn.metrics import mean_absolute_percentage_error\n",
    "from sklearn.metrics import mean_squared_error\n",
    "from sklearn.metrics import r2_score\n",
    "from sklearn.preprocessing import scale \n",
    "from sklearn.linear_model import LinearRegression, Ridge, RidgeCV, Lasso, LassoCV\n",
    "from sklearn.model_selection import KFold, cross_val_score, train_test_split\n",
    "from sklearn.metrics import mean_squared_error\n",
    "from sklearn.decomposition import PCA\n",
    "import pandas as pd\n",
    "import warnings\n",
    "from sklearn import preprocessing\n",
    "import seaborn as sns\n",
    "\n",
    "warnings.filterwarnings('ignore')"
   ]
  },
  {
   "cell_type": "code",
   "execution_count": 2,
   "id": "8f8e1e1a",
   "metadata": {},
   "outputs": [],
   "source": [
    "# Read preprocess csv file\n",
    "df = pd.read_csv('house_df2.csv')"
   ]
  },
  {
   "cell_type": "code",
   "execution_count": 3,
   "id": "c9251cdd",
   "metadata": {},
   "outputs": [
    {
     "data": {
      "text/html": [
       "<div>\n",
       "<style scoped>\n",
       "    .dataframe tbody tr th:only-of-type {\n",
       "        vertical-align: middle;\n",
       "    }\n",
       "\n",
       "    .dataframe tbody tr th {\n",
       "        vertical-align: top;\n",
       "    }\n",
       "\n",
       "    .dataframe thead th {\n",
       "        text-align: right;\n",
       "    }\n",
       "</style>\n",
       "<table border=\"1\" class=\"dataframe\">\n",
       "  <thead>\n",
       "    <tr style=\"text-align: right;\">\n",
       "      <th></th>\n",
       "      <th>Unnamed: 0</th>\n",
       "      <th>Price</th>\n",
       "      <th>SqFt</th>\n",
       "      <th>Bedrooms</th>\n",
       "      <th>Bathrooms</th>\n",
       "      <th>Offers</th>\n",
       "      <th>No</th>\n",
       "      <th>Yes</th>\n",
       "      <th>East</th>\n",
       "      <th>North</th>\n",
       "      <th>West</th>\n",
       "    </tr>\n",
       "  </thead>\n",
       "  <tbody>\n",
       "    <tr>\n",
       "      <th>0</th>\n",
       "      <td>0</td>\n",
       "      <td>114300.0</td>\n",
       "      <td>1790.0</td>\n",
       "      <td>2.0</td>\n",
       "      <td>2.0</td>\n",
       "      <td>2.0</td>\n",
       "      <td>0.0</td>\n",
       "      <td>0.0</td>\n",
       "      <td>0.0</td>\n",
       "      <td>0.0</td>\n",
       "      <td>0.0</td>\n",
       "    </tr>\n",
       "    <tr>\n",
       "      <th>1</th>\n",
       "      <td>1</td>\n",
       "      <td>114200.0</td>\n",
       "      <td>2030.0</td>\n",
       "      <td>4.0</td>\n",
       "      <td>2.0</td>\n",
       "      <td>3.0</td>\n",
       "      <td>0.0</td>\n",
       "      <td>0.0</td>\n",
       "      <td>0.0</td>\n",
       "      <td>0.0</td>\n",
       "      <td>0.0</td>\n",
       "    </tr>\n",
       "    <tr>\n",
       "      <th>2</th>\n",
       "      <td>2</td>\n",
       "      <td>114800.0</td>\n",
       "      <td>1740.0</td>\n",
       "      <td>3.0</td>\n",
       "      <td>2.0</td>\n",
       "      <td>1.0</td>\n",
       "      <td>0.0</td>\n",
       "      <td>0.0</td>\n",
       "      <td>0.0</td>\n",
       "      <td>0.0</td>\n",
       "      <td>0.0</td>\n",
       "    </tr>\n",
       "    <tr>\n",
       "      <th>3</th>\n",
       "      <td>3</td>\n",
       "      <td>94700.0</td>\n",
       "      <td>1980.0</td>\n",
       "      <td>3.0</td>\n",
       "      <td>2.0</td>\n",
       "      <td>3.0</td>\n",
       "      <td>0.0</td>\n",
       "      <td>0.0</td>\n",
       "      <td>0.0</td>\n",
       "      <td>0.0</td>\n",
       "      <td>0.0</td>\n",
       "    </tr>\n",
       "    <tr>\n",
       "      <th>4</th>\n",
       "      <td>4</td>\n",
       "      <td>119800.0</td>\n",
       "      <td>2130.0</td>\n",
       "      <td>3.0</td>\n",
       "      <td>3.0</td>\n",
       "      <td>3.0</td>\n",
       "      <td>0.0</td>\n",
       "      <td>0.0</td>\n",
       "      <td>0.0</td>\n",
       "      <td>0.0</td>\n",
       "      <td>0.0</td>\n",
       "    </tr>\n",
       "    <tr>\n",
       "      <th>...</th>\n",
       "      <td>...</td>\n",
       "      <td>...</td>\n",
       "      <td>...</td>\n",
       "      <td>...</td>\n",
       "      <td>...</td>\n",
       "      <td>...</td>\n",
       "      <td>...</td>\n",
       "      <td>...</td>\n",
       "      <td>...</td>\n",
       "      <td>...</td>\n",
       "      <td>...</td>\n",
       "    </tr>\n",
       "    <tr>\n",
       "      <th>379</th>\n",
       "      <td>123</td>\n",
       "      <td>0.0</td>\n",
       "      <td>0.0</td>\n",
       "      <td>0.0</td>\n",
       "      <td>0.0</td>\n",
       "      <td>0.0</td>\n",
       "      <td>0.0</td>\n",
       "      <td>0.0</td>\n",
       "      <td>1.0</td>\n",
       "      <td>0.0</td>\n",
       "      <td>0.0</td>\n",
       "    </tr>\n",
       "    <tr>\n",
       "      <th>380</th>\n",
       "      <td>124</td>\n",
       "      <td>0.0</td>\n",
       "      <td>0.0</td>\n",
       "      <td>0.0</td>\n",
       "      <td>0.0</td>\n",
       "      <td>0.0</td>\n",
       "      <td>0.0</td>\n",
       "      <td>0.0</td>\n",
       "      <td>1.0</td>\n",
       "      <td>0.0</td>\n",
       "      <td>0.0</td>\n",
       "    </tr>\n",
       "    <tr>\n",
       "      <th>381</th>\n",
       "      <td>125</td>\n",
       "      <td>0.0</td>\n",
       "      <td>0.0</td>\n",
       "      <td>0.0</td>\n",
       "      <td>0.0</td>\n",
       "      <td>0.0</td>\n",
       "      <td>0.0</td>\n",
       "      <td>0.0</td>\n",
       "      <td>0.0</td>\n",
       "      <td>1.0</td>\n",
       "      <td>0.0</td>\n",
       "    </tr>\n",
       "    <tr>\n",
       "      <th>382</th>\n",
       "      <td>126</td>\n",
       "      <td>0.0</td>\n",
       "      <td>0.0</td>\n",
       "      <td>0.0</td>\n",
       "      <td>0.0</td>\n",
       "      <td>0.0</td>\n",
       "      <td>0.0</td>\n",
       "      <td>0.0</td>\n",
       "      <td>0.0</td>\n",
       "      <td>0.0</td>\n",
       "      <td>1.0</td>\n",
       "    </tr>\n",
       "    <tr>\n",
       "      <th>383</th>\n",
       "      <td>127</td>\n",
       "      <td>0.0</td>\n",
       "      <td>0.0</td>\n",
       "      <td>0.0</td>\n",
       "      <td>0.0</td>\n",
       "      <td>0.0</td>\n",
       "      <td>0.0</td>\n",
       "      <td>0.0</td>\n",
       "      <td>0.0</td>\n",
       "      <td>1.0</td>\n",
       "      <td>0.0</td>\n",
       "    </tr>\n",
       "  </tbody>\n",
       "</table>\n",
       "<p>384 rows × 11 columns</p>\n",
       "</div>"
      ],
      "text/plain": [
       "     Unnamed: 0     Price    SqFt  Bedrooms  Bathrooms  Offers   No  Yes  \\\n",
       "0             0  114300.0  1790.0       2.0        2.0     2.0  0.0  0.0   \n",
       "1             1  114200.0  2030.0       4.0        2.0     3.0  0.0  0.0   \n",
       "2             2  114800.0  1740.0       3.0        2.0     1.0  0.0  0.0   \n",
       "3             3   94700.0  1980.0       3.0        2.0     3.0  0.0  0.0   \n",
       "4             4  119800.0  2130.0       3.0        3.0     3.0  0.0  0.0   \n",
       "..          ...       ...     ...       ...        ...     ...  ...  ...   \n",
       "379         123       0.0     0.0       0.0        0.0     0.0  0.0  0.0   \n",
       "380         124       0.0     0.0       0.0        0.0     0.0  0.0  0.0   \n",
       "381         125       0.0     0.0       0.0        0.0     0.0  0.0  0.0   \n",
       "382         126       0.0     0.0       0.0        0.0     0.0  0.0  0.0   \n",
       "383         127       0.0     0.0       0.0        0.0     0.0  0.0  0.0   \n",
       "\n",
       "     East  North  West  \n",
       "0     0.0    0.0   0.0  \n",
       "1     0.0    0.0   0.0  \n",
       "2     0.0    0.0   0.0  \n",
       "3     0.0    0.0   0.0  \n",
       "4     0.0    0.0   0.0  \n",
       "..    ...    ...   ...  \n",
       "379   1.0    0.0   0.0  \n",
       "380   1.0    0.0   0.0  \n",
       "381   0.0    1.0   0.0  \n",
       "382   0.0    0.0   1.0  \n",
       "383   0.0    1.0   0.0  \n",
       "\n",
       "[384 rows x 11 columns]"
      ]
     },
     "execution_count": 3,
     "metadata": {},
     "output_type": "execute_result"
    }
   ],
   "source": [
    "df"
   ]
  },
  {
   "cell_type": "code",
   "execution_count": 4,
   "id": "b4c112e7",
   "metadata": {},
   "outputs": [],
   "source": [
    "# Drop Unnamed: 0 column \n",
    "df = df.drop('Unnamed: 0',axis=1)\n",
    "\n"
   ]
  },
  {
   "cell_type": "code",
   "execution_count": 5,
   "id": "5a346639",
   "metadata": {},
   "outputs": [
    {
     "data": {
      "text/html": [
       "<div>\n",
       "<style scoped>\n",
       "    .dataframe tbody tr th:only-of-type {\n",
       "        vertical-align: middle;\n",
       "    }\n",
       "\n",
       "    .dataframe tbody tr th {\n",
       "        vertical-align: top;\n",
       "    }\n",
       "\n",
       "    .dataframe thead th {\n",
       "        text-align: right;\n",
       "    }\n",
       "</style>\n",
       "<table border=\"1\" class=\"dataframe\">\n",
       "  <thead>\n",
       "    <tr style=\"text-align: right;\">\n",
       "      <th></th>\n",
       "      <th>Price</th>\n",
       "      <th>SqFt</th>\n",
       "      <th>Bedrooms</th>\n",
       "      <th>Bathrooms</th>\n",
       "      <th>Offers</th>\n",
       "      <th>No</th>\n",
       "      <th>Yes</th>\n",
       "      <th>East</th>\n",
       "      <th>North</th>\n",
       "      <th>West</th>\n",
       "    </tr>\n",
       "  </thead>\n",
       "  <tbody>\n",
       "    <tr>\n",
       "      <th>0</th>\n",
       "      <td>114300.0</td>\n",
       "      <td>1790.0</td>\n",
       "      <td>2.0</td>\n",
       "      <td>2.0</td>\n",
       "      <td>2.0</td>\n",
       "      <td>0.0</td>\n",
       "      <td>0.0</td>\n",
       "      <td>0.0</td>\n",
       "      <td>0.0</td>\n",
       "      <td>0.0</td>\n",
       "    </tr>\n",
       "    <tr>\n",
       "      <th>1</th>\n",
       "      <td>114200.0</td>\n",
       "      <td>2030.0</td>\n",
       "      <td>4.0</td>\n",
       "      <td>2.0</td>\n",
       "      <td>3.0</td>\n",
       "      <td>0.0</td>\n",
       "      <td>0.0</td>\n",
       "      <td>0.0</td>\n",
       "      <td>0.0</td>\n",
       "      <td>0.0</td>\n",
       "    </tr>\n",
       "    <tr>\n",
       "      <th>2</th>\n",
       "      <td>114800.0</td>\n",
       "      <td>1740.0</td>\n",
       "      <td>3.0</td>\n",
       "      <td>2.0</td>\n",
       "      <td>1.0</td>\n",
       "      <td>0.0</td>\n",
       "      <td>0.0</td>\n",
       "      <td>0.0</td>\n",
       "      <td>0.0</td>\n",
       "      <td>0.0</td>\n",
       "    </tr>\n",
       "    <tr>\n",
       "      <th>3</th>\n",
       "      <td>94700.0</td>\n",
       "      <td>1980.0</td>\n",
       "      <td>3.0</td>\n",
       "      <td>2.0</td>\n",
       "      <td>3.0</td>\n",
       "      <td>0.0</td>\n",
       "      <td>0.0</td>\n",
       "      <td>0.0</td>\n",
       "      <td>0.0</td>\n",
       "      <td>0.0</td>\n",
       "    </tr>\n",
       "    <tr>\n",
       "      <th>4</th>\n",
       "      <td>119800.0</td>\n",
       "      <td>2130.0</td>\n",
       "      <td>3.0</td>\n",
       "      <td>3.0</td>\n",
       "      <td>3.0</td>\n",
       "      <td>0.0</td>\n",
       "      <td>0.0</td>\n",
       "      <td>0.0</td>\n",
       "      <td>0.0</td>\n",
       "      <td>0.0</td>\n",
       "    </tr>\n",
       "    <tr>\n",
       "      <th>...</th>\n",
       "      <td>...</td>\n",
       "      <td>...</td>\n",
       "      <td>...</td>\n",
       "      <td>...</td>\n",
       "      <td>...</td>\n",
       "      <td>...</td>\n",
       "      <td>...</td>\n",
       "      <td>...</td>\n",
       "      <td>...</td>\n",
       "      <td>...</td>\n",
       "    </tr>\n",
       "    <tr>\n",
       "      <th>379</th>\n",
       "      <td>0.0</td>\n",
       "      <td>0.0</td>\n",
       "      <td>0.0</td>\n",
       "      <td>0.0</td>\n",
       "      <td>0.0</td>\n",
       "      <td>0.0</td>\n",
       "      <td>0.0</td>\n",
       "      <td>1.0</td>\n",
       "      <td>0.0</td>\n",
       "      <td>0.0</td>\n",
       "    </tr>\n",
       "    <tr>\n",
       "      <th>380</th>\n",
       "      <td>0.0</td>\n",
       "      <td>0.0</td>\n",
       "      <td>0.0</td>\n",
       "      <td>0.0</td>\n",
       "      <td>0.0</td>\n",
       "      <td>0.0</td>\n",
       "      <td>0.0</td>\n",
       "      <td>1.0</td>\n",
       "      <td>0.0</td>\n",
       "      <td>0.0</td>\n",
       "    </tr>\n",
       "    <tr>\n",
       "      <th>381</th>\n",
       "      <td>0.0</td>\n",
       "      <td>0.0</td>\n",
       "      <td>0.0</td>\n",
       "      <td>0.0</td>\n",
       "      <td>0.0</td>\n",
       "      <td>0.0</td>\n",
       "      <td>0.0</td>\n",
       "      <td>0.0</td>\n",
       "      <td>1.0</td>\n",
       "      <td>0.0</td>\n",
       "    </tr>\n",
       "    <tr>\n",
       "      <th>382</th>\n",
       "      <td>0.0</td>\n",
       "      <td>0.0</td>\n",
       "      <td>0.0</td>\n",
       "      <td>0.0</td>\n",
       "      <td>0.0</td>\n",
       "      <td>0.0</td>\n",
       "      <td>0.0</td>\n",
       "      <td>0.0</td>\n",
       "      <td>0.0</td>\n",
       "      <td>1.0</td>\n",
       "    </tr>\n",
       "    <tr>\n",
       "      <th>383</th>\n",
       "      <td>0.0</td>\n",
       "      <td>0.0</td>\n",
       "      <td>0.0</td>\n",
       "      <td>0.0</td>\n",
       "      <td>0.0</td>\n",
       "      <td>0.0</td>\n",
       "      <td>0.0</td>\n",
       "      <td>0.0</td>\n",
       "      <td>1.0</td>\n",
       "      <td>0.0</td>\n",
       "    </tr>\n",
       "  </tbody>\n",
       "</table>\n",
       "<p>384 rows × 10 columns</p>\n",
       "</div>"
      ],
      "text/plain": [
       "        Price    SqFt  Bedrooms  Bathrooms  Offers   No  Yes  East  North  \\\n",
       "0    114300.0  1790.0       2.0        2.0     2.0  0.0  0.0   0.0    0.0   \n",
       "1    114200.0  2030.0       4.0        2.0     3.0  0.0  0.0   0.0    0.0   \n",
       "2    114800.0  1740.0       3.0        2.0     1.0  0.0  0.0   0.0    0.0   \n",
       "3     94700.0  1980.0       3.0        2.0     3.0  0.0  0.0   0.0    0.0   \n",
       "4    119800.0  2130.0       3.0        3.0     3.0  0.0  0.0   0.0    0.0   \n",
       "..        ...     ...       ...        ...     ...  ...  ...   ...    ...   \n",
       "379       0.0     0.0       0.0        0.0     0.0  0.0  0.0   1.0    0.0   \n",
       "380       0.0     0.0       0.0        0.0     0.0  0.0  0.0   1.0    0.0   \n",
       "381       0.0     0.0       0.0        0.0     0.0  0.0  0.0   0.0    1.0   \n",
       "382       0.0     0.0       0.0        0.0     0.0  0.0  0.0   0.0    0.0   \n",
       "383       0.0     0.0       0.0        0.0     0.0  0.0  0.0   0.0    1.0   \n",
       "\n",
       "     West  \n",
       "0     0.0  \n",
       "1     0.0  \n",
       "2     0.0  \n",
       "3     0.0  \n",
       "4     0.0  \n",
       "..    ...  \n",
       "379   0.0  \n",
       "380   0.0  \n",
       "381   0.0  \n",
       "382   1.0  \n",
       "383   0.0  \n",
       "\n",
       "[384 rows x 10 columns]"
      ]
     },
     "execution_count": 5,
     "metadata": {},
     "output_type": "execute_result"
    }
   ],
   "source": [
    "df"
   ]
  },
  {
   "cell_type": "markdown",
   "id": "c4915336",
   "metadata": {},
   "source": [
    "# Step 2: Data Preparation\n",
    "\n",
    "Goal:-\n",
    "Tasks we are going to in this step\n",
    "\n",
    "- Now we spearate the target variable and feature columns in two different dataframe and will check the shape of the dataset for validation purpose.\n",
    "- Split dataset into train and test dataset\n",
    "- Scaling on train dataset\n"
   ]
  },
  {
   "cell_type": "markdown",
   "id": "cd852e9b",
   "metadata": {},
   "source": [
    "# 1. Now we spearate the target variable and feature columns in two different dataframe and will check the shape of the dataset for validation purpose."
   ]
  },
  {
   "cell_type": "code",
   "execution_count": 6,
   "id": "cd4aae1d",
   "metadata": {},
   "outputs": [],
   "source": [
    "# Spearate target and feature column in X and y variable\n",
    "target = 'Price'\n",
    "X = df.drop(target,axis=1)\n",
    "y = df[target]"
   ]
  },
  {
   "cell_type": "code",
   "execution_count": 7,
   "id": "964c32da",
   "metadata": {},
   "outputs": [
    {
     "data": {
      "text/plain": [
       "((384, 9), (384,))"
      ]
     },
     "execution_count": 7,
     "metadata": {},
     "output_type": "execute_result"
    }
   ],
   "source": [
    "# Check the shape of X and y variable\n",
    "X.shape, y.shape"
   ]
  },
  {
   "cell_type": "code",
   "execution_count": 8,
   "id": "6a3f9652",
   "metadata": {},
   "outputs": [],
   "source": [
    "# Reshape the y variable \n",
    "y = y.values.reshape(-1,1)"
   ]
  },
  {
   "cell_type": "code",
   "execution_count": 9,
   "id": "5b78ef6f",
   "metadata": {},
   "outputs": [
    {
     "data": {
      "text/plain": [
       "((384, 9), (384, 1))"
      ]
     },
     "execution_count": 9,
     "metadata": {},
     "output_type": "execute_result"
    }
   ],
   "source": [
    "# Again check the shape of X and y variable\n",
    "X.shape, y.shape"
   ]
  },
  {
   "cell_type": "code",
   "execution_count": 10,
   "id": "1e904e4e",
   "metadata": {},
   "outputs": [
    {
     "data": {
      "text/html": [
       "<div>\n",
       "<style scoped>\n",
       "    .dataframe tbody tr th:only-of-type {\n",
       "        vertical-align: middle;\n",
       "    }\n",
       "\n",
       "    .dataframe tbody tr th {\n",
       "        vertical-align: top;\n",
       "    }\n",
       "\n",
       "    .dataframe thead th {\n",
       "        text-align: right;\n",
       "    }\n",
       "</style>\n",
       "<table border=\"1\" class=\"dataframe\">\n",
       "  <thead>\n",
       "    <tr style=\"text-align: right;\">\n",
       "      <th></th>\n",
       "      <th>SqFt</th>\n",
       "      <th>Bedrooms</th>\n",
       "      <th>Bathrooms</th>\n",
       "      <th>Offers</th>\n",
       "      <th>No</th>\n",
       "      <th>Yes</th>\n",
       "      <th>East</th>\n",
       "      <th>North</th>\n",
       "      <th>West</th>\n",
       "    </tr>\n",
       "  </thead>\n",
       "  <tbody>\n",
       "    <tr>\n",
       "      <th>0</th>\n",
       "      <td>1790.0</td>\n",
       "      <td>2.0</td>\n",
       "      <td>2.0</td>\n",
       "      <td>2.0</td>\n",
       "      <td>0.0</td>\n",
       "      <td>0.0</td>\n",
       "      <td>0.0</td>\n",
       "      <td>0.0</td>\n",
       "      <td>0.0</td>\n",
       "    </tr>\n",
       "    <tr>\n",
       "      <th>1</th>\n",
       "      <td>2030.0</td>\n",
       "      <td>4.0</td>\n",
       "      <td>2.0</td>\n",
       "      <td>3.0</td>\n",
       "      <td>0.0</td>\n",
       "      <td>0.0</td>\n",
       "      <td>0.0</td>\n",
       "      <td>0.0</td>\n",
       "      <td>0.0</td>\n",
       "    </tr>\n",
       "    <tr>\n",
       "      <th>2</th>\n",
       "      <td>1740.0</td>\n",
       "      <td>3.0</td>\n",
       "      <td>2.0</td>\n",
       "      <td>1.0</td>\n",
       "      <td>0.0</td>\n",
       "      <td>0.0</td>\n",
       "      <td>0.0</td>\n",
       "      <td>0.0</td>\n",
       "      <td>0.0</td>\n",
       "    </tr>\n",
       "    <tr>\n",
       "      <th>3</th>\n",
       "      <td>1980.0</td>\n",
       "      <td>3.0</td>\n",
       "      <td>2.0</td>\n",
       "      <td>3.0</td>\n",
       "      <td>0.0</td>\n",
       "      <td>0.0</td>\n",
       "      <td>0.0</td>\n",
       "      <td>0.0</td>\n",
       "      <td>0.0</td>\n",
       "    </tr>\n",
       "    <tr>\n",
       "      <th>4</th>\n",
       "      <td>2130.0</td>\n",
       "      <td>3.0</td>\n",
       "      <td>3.0</td>\n",
       "      <td>3.0</td>\n",
       "      <td>0.0</td>\n",
       "      <td>0.0</td>\n",
       "      <td>0.0</td>\n",
       "      <td>0.0</td>\n",
       "      <td>0.0</td>\n",
       "    </tr>\n",
       "    <tr>\n",
       "      <th>...</th>\n",
       "      <td>...</td>\n",
       "      <td>...</td>\n",
       "      <td>...</td>\n",
       "      <td>...</td>\n",
       "      <td>...</td>\n",
       "      <td>...</td>\n",
       "      <td>...</td>\n",
       "      <td>...</td>\n",
       "      <td>...</td>\n",
       "    </tr>\n",
       "    <tr>\n",
       "      <th>379</th>\n",
       "      <td>0.0</td>\n",
       "      <td>0.0</td>\n",
       "      <td>0.0</td>\n",
       "      <td>0.0</td>\n",
       "      <td>0.0</td>\n",
       "      <td>0.0</td>\n",
       "      <td>1.0</td>\n",
       "      <td>0.0</td>\n",
       "      <td>0.0</td>\n",
       "    </tr>\n",
       "    <tr>\n",
       "      <th>380</th>\n",
       "      <td>0.0</td>\n",
       "      <td>0.0</td>\n",
       "      <td>0.0</td>\n",
       "      <td>0.0</td>\n",
       "      <td>0.0</td>\n",
       "      <td>0.0</td>\n",
       "      <td>1.0</td>\n",
       "      <td>0.0</td>\n",
       "      <td>0.0</td>\n",
       "    </tr>\n",
       "    <tr>\n",
       "      <th>381</th>\n",
       "      <td>0.0</td>\n",
       "      <td>0.0</td>\n",
       "      <td>0.0</td>\n",
       "      <td>0.0</td>\n",
       "      <td>0.0</td>\n",
       "      <td>0.0</td>\n",
       "      <td>0.0</td>\n",
       "      <td>1.0</td>\n",
       "      <td>0.0</td>\n",
       "    </tr>\n",
       "    <tr>\n",
       "      <th>382</th>\n",
       "      <td>0.0</td>\n",
       "      <td>0.0</td>\n",
       "      <td>0.0</td>\n",
       "      <td>0.0</td>\n",
       "      <td>0.0</td>\n",
       "      <td>0.0</td>\n",
       "      <td>0.0</td>\n",
       "      <td>0.0</td>\n",
       "      <td>1.0</td>\n",
       "    </tr>\n",
       "    <tr>\n",
       "      <th>383</th>\n",
       "      <td>0.0</td>\n",
       "      <td>0.0</td>\n",
       "      <td>0.0</td>\n",
       "      <td>0.0</td>\n",
       "      <td>0.0</td>\n",
       "      <td>0.0</td>\n",
       "      <td>0.0</td>\n",
       "      <td>1.0</td>\n",
       "      <td>0.0</td>\n",
       "    </tr>\n",
       "  </tbody>\n",
       "</table>\n",
       "<p>384 rows × 9 columns</p>\n",
       "</div>"
      ],
      "text/plain": [
       "       SqFt  Bedrooms  Bathrooms  Offers   No  Yes  East  North  West\n",
       "0    1790.0       2.0        2.0     2.0  0.0  0.0   0.0    0.0   0.0\n",
       "1    2030.0       4.0        2.0     3.0  0.0  0.0   0.0    0.0   0.0\n",
       "2    1740.0       3.0        2.0     1.0  0.0  0.0   0.0    0.0   0.0\n",
       "3    1980.0       3.0        2.0     3.0  0.0  0.0   0.0    0.0   0.0\n",
       "4    2130.0       3.0        3.0     3.0  0.0  0.0   0.0    0.0   0.0\n",
       "..      ...       ...        ...     ...  ...  ...   ...    ...   ...\n",
       "379     0.0       0.0        0.0     0.0  0.0  0.0   1.0    0.0   0.0\n",
       "380     0.0       0.0        0.0     0.0  0.0  0.0   1.0    0.0   0.0\n",
       "381     0.0       0.0        0.0     0.0  0.0  0.0   0.0    1.0   0.0\n",
       "382     0.0       0.0        0.0     0.0  0.0  0.0   0.0    0.0   1.0\n",
       "383     0.0       0.0        0.0     0.0  0.0  0.0   0.0    1.0   0.0\n",
       "\n",
       "[384 rows x 9 columns]"
      ]
     },
     "execution_count": 10,
     "metadata": {},
     "output_type": "execute_result"
    }
   ],
   "source": [
    "X"
   ]
  },
  {
   "cell_type": "code",
   "execution_count": 11,
   "id": "bf8c7434",
   "metadata": {},
   "outputs": [
    {
     "data": {
      "text/plain": [
       "array([[114300.],\n",
       "       [114200.],\n",
       "       [114800.],\n",
       "       [ 94700.],\n",
       "       [119800.],\n",
       "       [114600.],\n",
       "       [151600.],\n",
       "       [150700.],\n",
       "       [119200.],\n",
       "       [104000.],\n",
       "       [132500.],\n",
       "       [123000.],\n",
       "       [102600.],\n",
       "       [126300.],\n",
       "       [176800.],\n",
       "       [145800.],\n",
       "       [147100.],\n",
       "       [ 83600.],\n",
       "       [111400.],\n",
       "       [167200.],\n",
       "       [116200.],\n",
       "       [113800.],\n",
       "       [ 91700.],\n",
       "       [106100.],\n",
       "       [156400.],\n",
       "       [149300.],\n",
       "       [137000.],\n",
       "       [ 99300.],\n",
       "       [ 69100.],\n",
       "       [188000.],\n",
       "       [182000.],\n",
       "       [112300.],\n",
       "       [135000.],\n",
       "       [139600.],\n",
       "       [117800.],\n",
       "       [117100.],\n",
       "       [117500.],\n",
       "       [147000.],\n",
       "       [131300.],\n",
       "       [108200.],\n",
       "       [106600.],\n",
       "       [133600.],\n",
       "       [105600.],\n",
       "       [154000.],\n",
       "       [166500.],\n",
       "       [103200.],\n",
       "       [129800.],\n",
       "       [ 90300.],\n",
       "       [115900.],\n",
       "       [107500.],\n",
       "       [151100.],\n",
       "       [ 91100.],\n",
       "       [117400.],\n",
       "       [130800.],\n",
       "       [ 81300.],\n",
       "       [125700.],\n",
       "       [140900.],\n",
       "       [152300.],\n",
       "       [138100.],\n",
       "       [155400.],\n",
       "       [180900.],\n",
       "       [100900.],\n",
       "       [161300.],\n",
       "       [120500.],\n",
       "       [130300.],\n",
       "       [111100.],\n",
       "       [126200.],\n",
       "       [151900.],\n",
       "       [ 93600.],\n",
       "       [165600.],\n",
       "       [166700.],\n",
       "       [157600.],\n",
       "       [107300.],\n",
       "       [125700.],\n",
       "       [144200.],\n",
       "       [106900.],\n",
       "       [129800.],\n",
       "       [176500.],\n",
       "       [121300.],\n",
       "       [143600.],\n",
       "       [143400.],\n",
       "       [184300.],\n",
       "       [164800.],\n",
       "       [147700.],\n",
       "       [ 90500.],\n",
       "       [188300.],\n",
       "       [102700.],\n",
       "       [172500.],\n",
       "       [127700.],\n",
       "       [ 97800.],\n",
       "       [143100.],\n",
       "       [116500.],\n",
       "       [142600.],\n",
       "       [157100.],\n",
       "       [160600.],\n",
       "       [152500.],\n",
       "       [133300.],\n",
       "       [126800.],\n",
       "       [145500.],\n",
       "       [171000.],\n",
       "       [103200.],\n",
       "       [123100.],\n",
       "       [136800.],\n",
       "       [211200.],\n",
       "       [ 82300.],\n",
       "       [146900.],\n",
       "       [108500.],\n",
       "       [134000.],\n",
       "       [117000.],\n",
       "       [108700.],\n",
       "       [111600.],\n",
       "       [114900.],\n",
       "       [123600.],\n",
       "       [115700.],\n",
       "       [124500.],\n",
       "       [102500.],\n",
       "       [199500.],\n",
       "       [117800.],\n",
       "       [150200.],\n",
       "       [109700.],\n",
       "       [110400.],\n",
       "       [105600.],\n",
       "       [144800.],\n",
       "       [119700.],\n",
       "       [147900.],\n",
       "       [113500.],\n",
       "       [149900.],\n",
       "       [124600.],\n",
       "       [     0.],\n",
       "       [     0.],\n",
       "       [     0.],\n",
       "       [     0.],\n",
       "       [     0.],\n",
       "       [     0.],\n",
       "       [     0.],\n",
       "       [     0.],\n",
       "       [     0.],\n",
       "       [     0.],\n",
       "       [     0.],\n",
       "       [     0.],\n",
       "       [     0.],\n",
       "       [     0.],\n",
       "       [     0.],\n",
       "       [     0.],\n",
       "       [     0.],\n",
       "       [     0.],\n",
       "       [     0.],\n",
       "       [     0.],\n",
       "       [     0.],\n",
       "       [     0.],\n",
       "       [     0.],\n",
       "       [     0.],\n",
       "       [     0.],\n",
       "       [     0.],\n",
       "       [     0.],\n",
       "       [     0.],\n",
       "       [     0.],\n",
       "       [     0.],\n",
       "       [     0.],\n",
       "       [     0.],\n",
       "       [     0.],\n",
       "       [     0.],\n",
       "       [     0.],\n",
       "       [     0.],\n",
       "       [     0.],\n",
       "       [     0.],\n",
       "       [     0.],\n",
       "       [     0.],\n",
       "       [     0.],\n",
       "       [     0.],\n",
       "       [     0.],\n",
       "       [     0.],\n",
       "       [     0.],\n",
       "       [     0.],\n",
       "       [     0.],\n",
       "       [     0.],\n",
       "       [     0.],\n",
       "       [     0.],\n",
       "       [     0.],\n",
       "       [     0.],\n",
       "       [     0.],\n",
       "       [     0.],\n",
       "       [     0.],\n",
       "       [     0.],\n",
       "       [     0.],\n",
       "       [     0.],\n",
       "       [     0.],\n",
       "       [     0.],\n",
       "       [     0.],\n",
       "       [     0.],\n",
       "       [     0.],\n",
       "       [     0.],\n",
       "       [     0.],\n",
       "       [     0.],\n",
       "       [     0.],\n",
       "       [     0.],\n",
       "       [     0.],\n",
       "       [     0.],\n",
       "       [     0.],\n",
       "       [     0.],\n",
       "       [     0.],\n",
       "       [     0.],\n",
       "       [     0.],\n",
       "       [     0.],\n",
       "       [     0.],\n",
       "       [     0.],\n",
       "       [     0.],\n",
       "       [     0.],\n",
       "       [     0.],\n",
       "       [     0.],\n",
       "       [     0.],\n",
       "       [     0.],\n",
       "       [     0.],\n",
       "       [     0.],\n",
       "       [     0.],\n",
       "       [     0.],\n",
       "       [     0.],\n",
       "       [     0.],\n",
       "       [     0.],\n",
       "       [     0.],\n",
       "       [     0.],\n",
       "       [     0.],\n",
       "       [     0.],\n",
       "       [     0.],\n",
       "       [     0.],\n",
       "       [     0.],\n",
       "       [     0.],\n",
       "       [     0.],\n",
       "       [     0.],\n",
       "       [     0.],\n",
       "       [     0.],\n",
       "       [     0.],\n",
       "       [     0.],\n",
       "       [     0.],\n",
       "       [     0.],\n",
       "       [     0.],\n",
       "       [     0.],\n",
       "       [     0.],\n",
       "       [     0.],\n",
       "       [     0.],\n",
       "       [     0.],\n",
       "       [     0.],\n",
       "       [     0.],\n",
       "       [     0.],\n",
       "       [     0.],\n",
       "       [     0.],\n",
       "       [     0.],\n",
       "       [     0.],\n",
       "       [     0.],\n",
       "       [     0.],\n",
       "       [     0.],\n",
       "       [     0.],\n",
       "       [     0.],\n",
       "       [     0.],\n",
       "       [     0.],\n",
       "       [     0.],\n",
       "       [     0.],\n",
       "       [     0.],\n",
       "       [     0.],\n",
       "       [     0.],\n",
       "       [     0.],\n",
       "       [     0.],\n",
       "       [     0.],\n",
       "       [     0.],\n",
       "       [     0.],\n",
       "       [     0.],\n",
       "       [     0.],\n",
       "       [     0.],\n",
       "       [     0.],\n",
       "       [     0.],\n",
       "       [     0.],\n",
       "       [     0.],\n",
       "       [     0.],\n",
       "       [     0.],\n",
       "       [     0.],\n",
       "       [     0.],\n",
       "       [     0.],\n",
       "       [     0.],\n",
       "       [     0.],\n",
       "       [     0.],\n",
       "       [     0.],\n",
       "       [     0.],\n",
       "       [     0.],\n",
       "       [     0.],\n",
       "       [     0.],\n",
       "       [     0.],\n",
       "       [     0.],\n",
       "       [     0.],\n",
       "       [     0.],\n",
       "       [     0.],\n",
       "       [     0.],\n",
       "       [     0.],\n",
       "       [     0.],\n",
       "       [     0.],\n",
       "       [     0.],\n",
       "       [     0.],\n",
       "       [     0.],\n",
       "       [     0.],\n",
       "       [     0.],\n",
       "       [     0.],\n",
       "       [     0.],\n",
       "       [     0.],\n",
       "       [     0.],\n",
       "       [     0.],\n",
       "       [     0.],\n",
       "       [     0.],\n",
       "       [     0.],\n",
       "       [     0.],\n",
       "       [     0.],\n",
       "       [     0.],\n",
       "       [     0.],\n",
       "       [     0.],\n",
       "       [     0.],\n",
       "       [     0.],\n",
       "       [     0.],\n",
       "       [     0.],\n",
       "       [     0.],\n",
       "       [     0.],\n",
       "       [     0.],\n",
       "       [     0.],\n",
       "       [     0.],\n",
       "       [     0.],\n",
       "       [     0.],\n",
       "       [     0.],\n",
       "       [     0.],\n",
       "       [     0.],\n",
       "       [     0.],\n",
       "       [     0.],\n",
       "       [     0.],\n",
       "       [     0.],\n",
       "       [     0.],\n",
       "       [     0.],\n",
       "       [     0.],\n",
       "       [     0.],\n",
       "       [     0.],\n",
       "       [     0.],\n",
       "       [     0.],\n",
       "       [     0.],\n",
       "       [     0.],\n",
       "       [     0.],\n",
       "       [     0.],\n",
       "       [     0.],\n",
       "       [     0.],\n",
       "       [     0.],\n",
       "       [     0.],\n",
       "       [     0.],\n",
       "       [     0.],\n",
       "       [     0.],\n",
       "       [     0.],\n",
       "       [     0.],\n",
       "       [     0.],\n",
       "       [     0.],\n",
       "       [     0.],\n",
       "       [     0.],\n",
       "       [     0.],\n",
       "       [     0.],\n",
       "       [     0.],\n",
       "       [     0.],\n",
       "       [     0.],\n",
       "       [     0.],\n",
       "       [     0.],\n",
       "       [     0.],\n",
       "       [     0.],\n",
       "       [     0.],\n",
       "       [     0.],\n",
       "       [     0.],\n",
       "       [     0.],\n",
       "       [     0.],\n",
       "       [     0.],\n",
       "       [     0.],\n",
       "       [     0.],\n",
       "       [     0.],\n",
       "       [     0.],\n",
       "       [     0.],\n",
       "       [     0.],\n",
       "       [     0.],\n",
       "       [     0.],\n",
       "       [     0.],\n",
       "       [     0.],\n",
       "       [     0.],\n",
       "       [     0.],\n",
       "       [     0.],\n",
       "       [     0.],\n",
       "       [     0.]])"
      ]
     },
     "execution_count": 11,
     "metadata": {},
     "output_type": "execute_result"
    }
   ],
   "source": [
    "y"
   ]
  },
  {
   "cell_type": "markdown",
   "id": "11fe911e",
   "metadata": {},
   "source": [
    "# 2. Split dataset into train and test dataset\n",
    "Here we are spliting our dataset into 80/20 percentage where 70% dataset goes into the training and 30% goes into testing the part.\n"
   ]
  },
  {
   "cell_type": "code",
   "execution_count": 12,
   "id": "9853e511",
   "metadata": {},
   "outputs": [],
   "source": [
    "# Split the X and y into X_train, X_test, y_train, y_test variables with 80-20% split.\n",
    "X_train, X_test, y_train, y_test = train_test_split(X, y, test_size=0.3, random_state=42)\n"
   ]
  },
  {
   "cell_type": "code",
   "execution_count": 13,
   "id": "bf4b4d3d",
   "metadata": {},
   "outputs": [
    {
     "data": {
      "text/plain": [
       "((268, 9), (116, 9), (268, 1), (116, 1))"
      ]
     },
     "execution_count": 13,
     "metadata": {},
     "output_type": "execute_result"
    }
   ],
   "source": [
    "# Check shape of the splitted variables\n",
    "X_train.shape, X_test.shape, y_train.shape, y_test.shape"
   ]
  },
  {
   "cell_type": "markdown",
   "id": "18e34e80",
   "metadata": {},
   "source": [
    "# Step 3: Model Training\n",
    "\n",
    "Goal:- In this step we are going to train our dataset on different linear regression algorithms. As we know that our target variable is in continous format so we have to apply linear regression algoritms.\n",
    "\n",
    "**Algorithms we are going to use in this step.**\n",
    "\n",
    "1. Linear Regression (no regularization)\n",
    "2. Lasso Regression (L1 regularization)\n",
    "3. Ridge Regression (L2 regularization)\n",
    "\n",
    "**Define cross-validation folds**"
   ]
  },
  {
   "cell_type": "markdown",
   "id": "3db952c9",
   "metadata": {},
   "source": [
    "The goal of cross-validation is to test the model's ability to predict new data that was not used in estimating it, in order to flag problems like overfitting or selection bias and to give an insight on how the model will generalize to an independent dataset (i.e., an unknown dataset, for instance from a real problem)."
   ]
  },
  {
   "cell_type": "code",
   "execution_count": 14,
   "id": "17c27277",
   "metadata": {},
   "outputs": [],
   "source": [
    "# Define kfold with 10 split\n",
    "cv = KFold(n_splits=10, shuffle=True, random_state=42)"
   ]
  },
  {
   "cell_type": "markdown",
   "id": "a7ee01dc",
   "metadata": {},
   "source": [
    "# 1. Linear Regression (no regularization)\n",
    "*Train set cross-validation*\n",
    "\n"
   ]
  },
  {
   "cell_type": "code",
   "execution_count": 15,
   "id": "973652fe",
   "metadata": {},
   "outputs": [],
   "source": [
    "# define linear regression model object\n",
    "lin_reg = LinearRegression()"
   ]
  },
  {
   "cell_type": "code",
   "execution_count": 16,
   "id": "77b8e602",
   "metadata": {},
   "outputs": [],
   "source": [
    "# train or fit train dataset on linear regression model\n",
    "lin_reg = lin_reg.fit(X_train, y_train)"
   ]
  },
  {
   "cell_type": "code",
   "execution_count": 17,
   "id": "a3fbdb91",
   "metadata": {},
   "outputs": [
    {
     "data": {
      "text/plain": [
       "0.9827290983977538"
      ]
     },
     "execution_count": 17,
     "metadata": {},
     "output_type": "execute_result"
    }
   ],
   "source": [
    "# Get R2 score\n",
    "lin_reg.score(X_train, y_train)"
   ]
  },
  {
   "cell_type": "code",
   "execution_count": 18,
   "id": "57f380ee",
   "metadata": {},
   "outputs": [
    {
     "data": {
      "text/plain": [
       "array([ 6795.97027916,  8845.57643698,  7067.666672  ,  9234.6504394 ,\n",
       "       11618.88062544,  9279.17187689,  7926.78154275,  5647.68542807,\n",
       "        5904.29378773, 11179.42143888])"
      ]
     },
     "execution_count": 18,
     "metadata": {},
     "output_type": "execute_result"
    }
   ],
   "source": [
    "# get kfold values\n",
    "lr_scores = -1 * cross_val_score(lin_reg, \n",
    "                                 X_train, \n",
    "                                 y_train, \n",
    "                                 cv=cv, \n",
    "                                 scoring='neg_root_mean_squared_error')\n",
    "lr_scores"
   ]
  },
  {
   "cell_type": "code",
   "execution_count": 19,
   "id": "7345f6b7",
   "metadata": {},
   "outputs": [
    {
     "data": {
      "text/plain": [
       "8350.00985273205"
      ]
     },
     "execution_count": 19,
     "metadata": {},
     "output_type": "execute_result"
    }
   ],
   "source": [
    "# mean of the train kfold scores\n",
    "lr_score_train = np.mean(lr_scores)\n",
    "lr_score_train"
   ]
  },
  {
   "cell_type": "markdown",
   "id": "4990f3df",
   "metadata": {},
   "source": [
    "# Predict"
   ]
  },
  {
   "cell_type": "code",
   "execution_count": 20,
   "id": "dab3e032",
   "metadata": {},
   "outputs": [],
   "source": [
    "# predict the values on X_test_scaled dataset \n",
    "y_predicted = lin_reg.predict(X_test)"
   ]
  },
  {
   "cell_type": "code",
   "execution_count": 21,
   "id": "a13a3e90",
   "metadata": {},
   "outputs": [
    {
     "data": {
      "text/plain": [
       "9743.447113461525"
      ]
     },
     "execution_count": 21,
     "metadata": {},
     "output_type": "execute_result"
    }
   ],
   "source": [
    "# RMSE between y_test and y_predicted values\n",
    "lr_score_test = mean_squared_error(y_test, y_predicted, squared=False) # RMSE instead of MSE\n",
    "lr_score_test"
   ]
  },
  {
   "cell_type": "code",
   "execution_count": 22,
   "id": "aded3b42",
   "metadata": {},
   "outputs": [
    {
     "data": {
      "image/png": "[encoded data removed]",
      "text/plain": [
       "<Figure size 432x288 with 1 Axes>"
      ]
     },
     "metadata": {
      "needs_background": "light"
     },
     "output_type": "display_data"
    }
   ],
   "source": [
    "# scatter plot between y_test and y_predicted values\n",
    "plt.scatter(y_test, y_predicted)\n",
    "plt.show()"
   ]
  },
  {
   "cell_type": "code",
   "execution_count": 23,
   "id": "ec8cf17e",
   "metadata": {},
   "outputs": [
    {
     "data": {
      "image/png": "[encoded data removed]",
      "text/plain": [
       "<Figure size 432x288 with 1 Axes>"
      ]
     },
     "metadata": {
      "needs_background": "light"
     },
     "output_type": "display_data"
    }
   ],
   "source": [
    "# histogram between y_test and y_predicted values\n",
    "plt.hist(y_test - y_predicted)\n",
    "plt.show()"
   ]
  },
  {
   "cell_type": "markdown",
   "id": "94d41428",
   "metadata": {},
   "source": [
    "# (2) Lasso Regression (L1 regularization)\n",
    "Train set cross-validation"
   ]
  },
  {
   "cell_type": "code",
   "execution_count": 24,
   "id": "7262311f",
   "metadata": {},
   "outputs": [],
   "source": [
    "# define lasso regression model object\n",
    "lasso_reg = LassoCV()"
   ]
  },
  {
   "cell_type": "code",
   "execution_count": 25,
   "id": "f9543908",
   "metadata": {},
   "outputs": [],
   "source": [
    "# train or fit train dataset on lasso regression model\n",
    "lasso_reg = lasso_reg.fit(X_train, y_train)\n",
    "\n"
   ]
  },
  {
   "cell_type": "code",
   "execution_count": 26,
   "id": "1502cdbd",
   "metadata": {},
   "outputs": [
    {
     "data": {
      "text/plain": [
       "0.9587009208740964"
      ]
     },
     "execution_count": 26,
     "metadata": {},
     "output_type": "execute_result"
    }
   ],
   "source": [
    "\n",
    "# Get R2 score\n",
    "lasso_reg.score(X_train, y_train)"
   ]
  },
  {
   "cell_type": "code",
   "execution_count": 27,
   "id": "21b598a2",
   "metadata": {},
   "outputs": [
    {
     "data": {
      "text/plain": [
       "array([ 9721.45594559, 12835.41049569,  8298.08318411, 11451.66716148,\n",
       "       18419.88920753, 13994.56894636, 11106.42624666, 14303.04835355,\n",
       "       11477.36836547, 11678.18342542])"
      ]
     },
     "execution_count": 27,
     "metadata": {},
     "output_type": "execute_result"
    }
   ],
   "source": [
    "# get kfold values\n",
    "lasso_scores = -1 * cross_val_score(lasso_reg, \n",
    "                                    X_train, \n",
    "                                    y_train, \n",
    "                                    cv=cv, \n",
    "                                    scoring='neg_root_mean_squared_error')\n",
    "lasso_scores"
   ]
  },
  {
   "cell_type": "code",
   "execution_count": 28,
   "id": "d49a58b4",
   "metadata": {},
   "outputs": [
    {
     "data": {
      "text/plain": [
       "12328.61013318662"
      ]
     },
     "execution_count": 28,
     "metadata": {},
     "output_type": "execute_result"
    }
   ],
   "source": [
    "# mean of the train kfold scores\n",
    "lasso_score_train = np.mean(lasso_scores)\n",
    "lasso_score_train"
   ]
  },
  {
   "cell_type": "markdown",
   "id": "212ae778",
   "metadata": {},
   "source": [
    "# Predict"
   ]
  },
  {
   "cell_type": "code",
   "execution_count": 29,
   "id": "496394bc",
   "metadata": {},
   "outputs": [],
   "source": [
    "# predict the values on X_test_scaled dataset \n",
    "y_predicted = lasso_reg.predict(X_test)\n"
   ]
  },
  {
   "cell_type": "code",
   "execution_count": 30,
   "id": "ab5ecf1c",
   "metadata": {},
   "outputs": [
    {
     "data": {
      "text/plain": [
       "13973.890972433192"
      ]
     },
     "execution_count": 30,
     "metadata": {},
     "output_type": "execute_result"
    }
   ],
   "source": [
    "# RMSE between y_test and y_predicted values\n",
    "lasso_score_test = mean_squared_error(y_test, y_predicted, squared=False)\n",
    "lasso_score_test"
   ]
  },
  {
   "cell_type": "code",
   "execution_count": 31,
   "id": "fb0136ac",
   "metadata": {},
   "outputs": [
    {
     "data": {
      "image/png": "[encoded data removed]",
      "text/plain": [
       "<Figure size 432x288 with 1 Axes>"
      ]
     },
     "metadata": {
      "needs_background": "light"
     },
     "output_type": "display_data"
    }
   ],
   "source": [
    "# scatter plot between y_test and y_predicted values\n",
    "plt.scatter(y_test, y_predicted)\n",
    "plt.show()"
   ]
  },
  {
   "cell_type": "code",
   "execution_count": 32,
   "id": "a5f3b272",
   "metadata": {},
   "outputs": [
    {
     "data": {
      "image/png": "[encoded data removed]",
      "text/plain": [
       "<Figure size 432x288 with 1 Axes>"
      ]
     },
     "metadata": {
      "needs_background": "light"
     },
     "output_type": "display_data"
    }
   ],
   "source": [
    "# histogram between y_test and y_predicted values\n",
    "plt.hist(y_test - y_predicted)\n",
    "plt.show()"
   ]
  },
  {
   "cell_type": "markdown",
   "id": "97cef253",
   "metadata": {},
   "source": [
    "# (3) Ridge Regression (L2 regularization)\n",
    "Train set cross-validation\n",
    "\n"
   ]
  },
  {
   "cell_type": "code",
   "execution_count": 33,
   "id": "79271791",
   "metadata": {},
   "outputs": [],
   "source": [
    "# define Ridge regression model object\n",
    "ridge_reg = RidgeCV()\n",
    "\n"
   ]
  },
  {
   "cell_type": "code",
   "execution_count": 34,
   "id": "9bdc4b16",
   "metadata": {},
   "outputs": [],
   "source": [
    "# train or fit train dataset on linear regression model\n",
    "ridge_reg = ridge_reg.fit(X_train, y_train)"
   ]
  },
  {
   "cell_type": "code",
   "execution_count": 35,
   "id": "c81abf65",
   "metadata": {},
   "outputs": [
    {
     "data": {
      "text/plain": [
       "0.982559142517035"
      ]
     },
     "execution_count": 35,
     "metadata": {},
     "output_type": "execute_result"
    }
   ],
   "source": [
    "# Get R2 score\n",
    "ridge_reg.score(X_train, y_train)"
   ]
  },
  {
   "cell_type": "code",
   "execution_count": 36,
   "id": "cb46aa4e",
   "metadata": {},
   "outputs": [
    {
     "data": {
      "text/plain": [
       "array([ 6690.72659805,  8160.6569589 ,  6890.69480215,  8926.08705745,\n",
       "       11864.40982541,  9426.11308461,  8056.01400251,  5720.53922099,\n",
       "        6221.09836959, 11225.4530372 ])"
      ]
     },
     "execution_count": 36,
     "metadata": {},
     "output_type": "execute_result"
    }
   ],
   "source": [
    "# get kfold values\n",
    "ridge_scores = -1 * cross_val_score(ridge_reg, \n",
    "                                    X_train, \n",
    "                                    y_train, \n",
    "                                    cv=cv, \n",
    "                                    scoring='neg_root_mean_squared_error')\n",
    "ridge_scores"
   ]
  },
  {
   "cell_type": "code",
   "execution_count": 37,
   "id": "b86a9277",
   "metadata": {},
   "outputs": [
    {
     "data": {
      "text/plain": [
       "8318.17929568603"
      ]
     },
     "execution_count": 37,
     "metadata": {},
     "output_type": "execute_result"
    }
   ],
   "source": [
    "# mean of the train kfold scores\n",
    "ridge_score_train = np.mean(ridge_scores)\n",
    "ridge_score_train"
   ]
  },
  {
   "cell_type": "markdown",
   "id": "9b88458c",
   "metadata": {},
   "source": [
    "# Predict"
   ]
  },
  {
   "cell_type": "code",
   "execution_count": 38,
   "id": "e3623f7f",
   "metadata": {},
   "outputs": [],
   "source": [
    "# predict the values on X_test_scaled dataset \n",
    "y_predicted = ridge_reg.predict(X_test)"
   ]
  },
  {
   "cell_type": "code",
   "execution_count": 39,
   "id": "8673d87a",
   "metadata": {},
   "outputs": [
    {
     "data": {
      "text/plain": [
       "9712.230719743187"
      ]
     },
     "execution_count": 39,
     "metadata": {},
     "output_type": "execute_result"
    }
   ],
   "source": [
    "# RMSE between y_test and y_predicted values\n",
    "ridge_score_test = mean_squared_error(y_test, y_predicted, squared=False)\n",
    "ridge_score_test"
   ]
  },
  {
   "cell_type": "code",
   "execution_count": 40,
   "id": "3e05011d",
   "metadata": {},
   "outputs": [
    {
     "data": {
      "image/png": "[encoded data removed]",
      "text/plain": [
       "<Figure size 432x288 with 1 Axes>"
      ]
     },
     "metadata": {
      "needs_background": "light"
     },
     "output_type": "display_data"
    }
   ],
   "source": [
    "# scatter plot between y_test and y_predicted values\n",
    "plt.scatter(y_test, y_predicted)\n",
    "plt.show()"
   ]
  },
  {
   "cell_type": "markdown",
   "id": "4644e5b2",
   "metadata": {},
   "source": [
    "# Evaluation:"
   ]
  },
  {
   "cell_type": "code",
   "execution_count": 41,
   "id": "12e7053a",
   "metadata": {},
   "outputs": [
    {
     "data": {
      "text/html": [
       "<div>\n",
       "<style scoped>\n",
       "    .dataframe tbody tr th:only-of-type {\n",
       "        vertical-align: middle;\n",
       "    }\n",
       "\n",
       "    .dataframe tbody tr th {\n",
       "        vertical-align: top;\n",
       "    }\n",
       "\n",
       "    .dataframe thead th {\n",
       "        text-align: right;\n",
       "    }\n",
       "</style>\n",
       "<table border=\"1\" class=\"dataframe\">\n",
       "  <thead>\n",
       "    <tr style=\"text-align: right;\">\n",
       "      <th></th>\n",
       "      <th>RMSE (Train Set)</th>\n",
       "    </tr>\n",
       "  </thead>\n",
       "  <tbody>\n",
       "    <tr>\n",
       "      <th>Linear Regression</th>\n",
       "      <td>8350.010</td>\n",
       "    </tr>\n",
       "    <tr>\n",
       "      <th>Lasso Regression</th>\n",
       "      <td>12328.610</td>\n",
       "    </tr>\n",
       "    <tr>\n",
       "      <th>Ridge Regression</th>\n",
       "      <td>8318.179</td>\n",
       "    </tr>\n",
       "  </tbody>\n",
       "</table>\n",
       "</div>"
      ],
      "text/plain": [
       "                   RMSE (Train Set)\n",
       "Linear Regression          8350.010\n",
       "Lasso Regression          12328.610\n",
       "Ridge Regression           8318.179"
      ]
     },
     "execution_count": 41,
     "metadata": {},
     "output_type": "execute_result"
    }
   ],
   "source": [
    "train_metrics = np.array([round(lr_score_train,3), \n",
    "                          round(lasso_score_train,3), \n",
    "                          round(ridge_score_train,3)]) \n",
    "train_metrics = pd.DataFrame(train_metrics, columns=['RMSE (Train Set)'])\n",
    "train_metrics.index = ['Linear Regression', \n",
    "                       'Lasso Regression', \n",
    "                       'Ridge Regression']\n",
    "train_metrics\n"
   ]
  },
  {
   "cell_type": "code",
   "execution_count": 42,
   "id": "97550f91",
   "metadata": {},
   "outputs": [
    {
     "data": {
      "text/html": [
       "<div>\n",
       "<style scoped>\n",
       "    .dataframe tbody tr th:only-of-type {\n",
       "        vertical-align: middle;\n",
       "    }\n",
       "\n",
       "    .dataframe tbody tr th {\n",
       "        vertical-align: top;\n",
       "    }\n",
       "\n",
       "    .dataframe thead th {\n",
       "        text-align: right;\n",
       "    }\n",
       "</style>\n",
       "<table border=\"1\" class=\"dataframe\">\n",
       "  <thead>\n",
       "    <tr style=\"text-align: right;\">\n",
       "      <th></th>\n",
       "      <th>RMSE (Test Set)</th>\n",
       "    </tr>\n",
       "  </thead>\n",
       "  <tbody>\n",
       "    <tr>\n",
       "      <th>Linear Regression</th>\n",
       "      <td>9743.447</td>\n",
       "    </tr>\n",
       "    <tr>\n",
       "      <th>Lasso Regression</th>\n",
       "      <td>13973.891</td>\n",
       "    </tr>\n",
       "    <tr>\n",
       "      <th>Ridge Regression</th>\n",
       "      <td>9712.231</td>\n",
       "    </tr>\n",
       "  </tbody>\n",
       "</table>\n",
       "</div>"
      ],
      "text/plain": [
       "                   RMSE (Test Set)\n",
       "Linear Regression         9743.447\n",
       "Lasso Regression         13973.891\n",
       "Ridge Regression          9712.231"
      ]
     },
     "execution_count": 42,
     "metadata": {},
     "output_type": "execute_result"
    }
   ],
   "source": [
    "test_metrics = np.array([round(lr_score_test,3), \n",
    "                         round(lasso_score_test,3), \n",
    "                         round(ridge_score_test,3)]) \n",
    "test_metrics = pd.DataFrame(test_metrics, columns=['RMSE (Test Set)'])\n",
    "test_metrics.index = ['Linear Regression', \n",
    "                      'Lasso Regression', \n",
    "                      'Ridge Regression']\n",
    "test_metrics"
   ]
  },
  {
   "cell_type": "markdown",
   "id": "7d5c599a",
   "metadata": {},
   "source": [
    "# Insight:\n",
    "- A low RMSE value indicates that the simulated and observed data are close to each other showing a better accuracy. Thus lower the RMSE better is model performance.\n",
    "- As You can see from above RMSE of, we will go with Lasoo Regression.(According to our dataset).\n",
    "- But there is no universally “good” RMSE value. It all depends on the range of values in the dataset you’re working with."
   ]
  },
  {
   "cell_type": "markdown",
   "id": "0db52f0f",
   "metadata": {},
   "source": [
    "# Step 4: Save Model\n",
    "Goal:- In this step we are going to save our model in pickel format file."
   ]
  },
  {
   "cell_type": "code",
   "execution_count": 43,
   "id": "bd60b7b8",
   "metadata": {},
   "outputs": [],
   "source": [
    "import pickle\n",
    "pickle.dump(lasso_reg, open('House_price_detect.pkl', 'wb'))"
   ]
  },
  {
   "cell_type": "code",
   "execution_count": 44,
   "id": "141f4b2b",
   "metadata": {},
   "outputs": [],
   "source": [
    "import pickle\n",
    "\n",
    "def price_prediction(features):\n",
    "    \n",
    "    pickled_model = pickle.load(open('House_price_detect.pkl', 'rb'))\n",
    "    house_price = str(round(list(pickled_model.predict(features))[0]))\n",
    "    \n",
    "    return str(\"House price maybe : $\" + house_price)\n",
    "\n"
   ]
  },
  {
   "cell_type": "code",
   "execution_count": 45,
   "id": "a69de27e",
   "metadata": {},
   "outputs": [],
   "source": [
    "# features or X_test\n",
    "SqFt = 1500\n",
    "Bedrooms = 4 \n",
    "Bathrooms = 3\n",
    "Offers = 0\n",
    "No = 0\n",
    "Yes = 1\n",
    "East = 0\n",
    "North = 0\n",
    "West = 1"
   ]
  },
  {
   "cell_type": "code",
   "execution_count": 46,
   "id": "0d99f29d",
   "metadata": {},
   "outputs": [
    {
     "data": {
      "text/plain": [
       "'House price maybe : $97126'"
      ]
     },
     "execution_count": 46,
     "metadata": {},
     "output_type": "execute_result"
    }
   ],
   "source": [
    "price_prediction([[ SqFt, Bedrooms, Bathrooms, \n",
    "                       Offers, No, Yes, East, North, West]])\n"
   ]
  },
  {
   "cell_type": "markdown",
   "id": "a6d1521a",
   "metadata": {},
   "source": [
    "# **In this step we save our model in pickel file format so we can use it now anywhere for prediction purpose**\n",
    "\n",
    "\n"
   ]
  }
 ],
 "metadata": {
  "kernelspec": {
   "display_name": "Python 3 (ipykernel)",
   "language": "python",
   "name": "python3"
  },
  "language_info": {
   "codemirror_mode": {
    "name": "ipython",
    "version": 3
   },
   "file_extension": ".py",
   "mimetype": "text/x-python",
   "name": "python",
   "nbconvert_exporter": "python",
   "pygments_lexer": "ipython3",
   "version": "3.9.12"
  }
 },
 "nbformat": 4,
 "nbformat_minor": 5
}
