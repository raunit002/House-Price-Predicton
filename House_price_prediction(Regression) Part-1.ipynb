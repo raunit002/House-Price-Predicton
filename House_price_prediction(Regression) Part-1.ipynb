{
 "cells": [
  {
   "cell_type": "markdown",
   "id": "b40113f9",
   "metadata": {},
   "source": [
    "# Build a model to predict how much it would cost to buy house property"
   ]
  },
  {
   "cell_type": "markdown",
   "id": "1f74751b",
   "metadata": {},
   "source": [
    "# Problem Statement:\n",
    "\n",
    "A home Buyers doesnt just look at home from outside and say I want this house. In fact, while buying house pepole look for a lot of factors like how many bedrooms , bathrooms the house has. does it even have balcony or front lawn, whats to its east, west ,south, north  direction.\n",
    "\n",
    "Just like that there are mnay factors affecting a buyer to buy a desired house.\n",
    "\n",
    "\n",
    "The goal of this challenge is to build a machine learning model that predicts the price of house property to build.\n",
    "\n",
    "Build a model to predict how much the price does it takes to buy a desired house."
   ]
  },
  {
   "cell_type": "markdown",
   "id": "2f6aeb4c",
   "metadata": {},
   "source": [
    "# DataSet:\n",
    "   \n",
    "This data set is widely available over internet for free. You are given a rich dataset with features for each house. One row of data is for one house."
   ]
  },
  {
   "cell_type": "markdown",
   "id": "caa304d7",
   "metadata": {},
   "source": [
    "# Step 1: Import all the required libraries\n",
    "\n",
    "- Pandas : In computer programming, pandas is a software library written for the Python programming language for data manipulation and analysis and storing in a proper way. In particular, it offers data structures and operations for manipulating numerical tables and time series\n",
    "- Sklearn : Scikit-learn (formerly scikits.learn) is a free software machine learning library for the Python programming language. It features various classification, regression and clustering algorithms including support vector machines, random forests, gradient boosting, k-means and DBSCAN, and is designed to interoperate with the Python numerical and scientific libraries NumPy and SciPy. The library is built upon the SciPy (Scientific Python) that must be installed before you can use scikit-learn.\n",
    "- Pickle : Python pickle module is used for serializing and de-serializing a Python object structure. Pickling is a way to convert a python object (list, dict, etc.) into a character stream. The idea is that this character stream contains all the information necessary to reconstruct the object in another python script.\n",
    "- Seaborn : Seaborn is a Python data visualization library based on matplotlib. It provides a high-level interface for drawing attractive and informative statistical graphics."
   ]
  },
  {
   "cell_type": "code",
   "execution_count": 1,
   "id": "dcb19fa6",
   "metadata": {
    "ExecuteTime": {
     "end_time": "2022-09-11T06:57:40.864905Z",
     "start_time": "2022-09-11T06:57:40.856989Z"
    }
   },
   "outputs": [],
   "source": [
    "#Loading libraries \n",
    "import pandas as pd\n",
    "import seaborn as sns\n",
    "from sklearn.model_selection import train_test_split\n",
    "from sklearn import preprocessing\n",
    "import sklearn.linear_model \n",
    "import sklearn\n",
    "import pickle\n",
    "import numpy as np\n",
    "import matplotlib.pyplot as plt\n",
    "from sklearn.preprocessing import OneHotEncoder\n",
    "import warnings\n",
    "\n",
    "warnings.filterwarnings('ignore')"
   ]
  },
  {
   "cell_type": "markdown",
   "id": "5a7e5100",
   "metadata": {
    "ExecuteTime": {
     "end_time": "2022-09-15T15:27:01.544754Z",
     "start_time": "2022-09-15T15:27:00.903965Z"
    }
   },
   "source": [
    "# Step 2 : Read dataset and basic details of dataset\n",
    "Goal:- In this step we are going to read the dataset, view the dataset and analysis the basic details like total number of rows and columns, what are the column data types and see to need to create new column or not."
   ]
  },
  {
   "cell_type": "code",
   "execution_count": 2,
   "id": "9708a358",
   "metadata": {
    "ExecuteTime": {
     "end_time": "2022-09-15T15:46:46.132001Z",
     "start_time": "2022-09-15T15:46:46.117052Z"
    }
   },
   "outputs": [
    {
     "name": "stdout",
     "output_type": "stream",
     "text": [
      "Data read done successfully...\n"
     ]
    }
   ],
   "source": [
    "#loading training data\n",
    "try:\n",
    "    df = pd.read_csv('house-prices.csv')\n",
    "    print('Data read done successfully...')\n",
    "except (FileNotFoundError, IOError):\n",
    "    print(\"Wrong file or file path\")   "
   ]
  },
  {
   "cell_type": "code",
   "execution_count": 3,
   "id": "4b8ac292",
   "metadata": {
    "ExecuteTime": {
     "end_time": "2022-09-15T15:46:46.345440Z",
     "start_time": "2022-09-15T15:46:46.338594Z"
    }
   },
   "outputs": [
    {
     "data": {
      "text/html": [
       "<div>\n",
       "<style scoped>\n",
       "    .dataframe tbody tr th:only-of-type {\n",
       "        vertical-align: middle;\n",
       "    }\n",
       "\n",
       "    .dataframe tbody tr th {\n",
       "        vertical-align: top;\n",
       "    }\n",
       "\n",
       "    .dataframe thead th {\n",
       "        text-align: right;\n",
       "    }\n",
       "</style>\n",
       "<table border=\"1\" class=\"dataframe\">\n",
       "  <thead>\n",
       "    <tr style=\"text-align: right;\">\n",
       "      <th></th>\n",
       "      <th>Home</th>\n",
       "      <th>Price</th>\n",
       "      <th>SqFt</th>\n",
       "      <th>Bedrooms</th>\n",
       "      <th>Bathrooms</th>\n",
       "      <th>Offers</th>\n",
       "      <th>Brick</th>\n",
       "      <th>Neighborhood</th>\n",
       "    </tr>\n",
       "  </thead>\n",
       "  <tbody>\n",
       "    <tr>\n",
       "      <th>0</th>\n",
       "      <td>1</td>\n",
       "      <td>114300</td>\n",
       "      <td>1790</td>\n",
       "      <td>2</td>\n",
       "      <td>2</td>\n",
       "      <td>2</td>\n",
       "      <td>No</td>\n",
       "      <td>East</td>\n",
       "    </tr>\n",
       "    <tr>\n",
       "      <th>1</th>\n",
       "      <td>2</td>\n",
       "      <td>114200</td>\n",
       "      <td>2030</td>\n",
       "      <td>4</td>\n",
       "      <td>2</td>\n",
       "      <td>3</td>\n",
       "      <td>No</td>\n",
       "      <td>East</td>\n",
       "    </tr>\n",
       "    <tr>\n",
       "      <th>2</th>\n",
       "      <td>3</td>\n",
       "      <td>114800</td>\n",
       "      <td>1740</td>\n",
       "      <td>3</td>\n",
       "      <td>2</td>\n",
       "      <td>1</td>\n",
       "      <td>No</td>\n",
       "      <td>East</td>\n",
       "    </tr>\n",
       "    <tr>\n",
       "      <th>3</th>\n",
       "      <td>4</td>\n",
       "      <td>94700</td>\n",
       "      <td>1980</td>\n",
       "      <td>3</td>\n",
       "      <td>2</td>\n",
       "      <td>3</td>\n",
       "      <td>No</td>\n",
       "      <td>East</td>\n",
       "    </tr>\n",
       "    <tr>\n",
       "      <th>4</th>\n",
       "      <td>5</td>\n",
       "      <td>119800</td>\n",
       "      <td>2130</td>\n",
       "      <td>3</td>\n",
       "      <td>3</td>\n",
       "      <td>3</td>\n",
       "      <td>No</td>\n",
       "      <td>East</td>\n",
       "    </tr>\n",
       "    <tr>\n",
       "      <th>5</th>\n",
       "      <td>6</td>\n",
       "      <td>114600</td>\n",
       "      <td>1780</td>\n",
       "      <td>3</td>\n",
       "      <td>2</td>\n",
       "      <td>2</td>\n",
       "      <td>No</td>\n",
       "      <td>North</td>\n",
       "    </tr>\n",
       "    <tr>\n",
       "      <th>6</th>\n",
       "      <td>7</td>\n",
       "      <td>151600</td>\n",
       "      <td>1830</td>\n",
       "      <td>3</td>\n",
       "      <td>3</td>\n",
       "      <td>3</td>\n",
       "      <td>Yes</td>\n",
       "      <td>West</td>\n",
       "    </tr>\n",
       "    <tr>\n",
       "      <th>7</th>\n",
       "      <td>8</td>\n",
       "      <td>150700</td>\n",
       "      <td>2160</td>\n",
       "      <td>4</td>\n",
       "      <td>2</td>\n",
       "      <td>2</td>\n",
       "      <td>No</td>\n",
       "      <td>West</td>\n",
       "    </tr>\n",
       "    <tr>\n",
       "      <th>8</th>\n",
       "      <td>9</td>\n",
       "      <td>119200</td>\n",
       "      <td>2110</td>\n",
       "      <td>4</td>\n",
       "      <td>2</td>\n",
       "      <td>3</td>\n",
       "      <td>No</td>\n",
       "      <td>East</td>\n",
       "    </tr>\n",
       "    <tr>\n",
       "      <th>9</th>\n",
       "      <td>10</td>\n",
       "      <td>104000</td>\n",
       "      <td>1730</td>\n",
       "      <td>3</td>\n",
       "      <td>3</td>\n",
       "      <td>3</td>\n",
       "      <td>No</td>\n",
       "      <td>East</td>\n",
       "    </tr>\n",
       "    <tr>\n",
       "      <th>10</th>\n",
       "      <td>11</td>\n",
       "      <td>132500</td>\n",
       "      <td>2030</td>\n",
       "      <td>3</td>\n",
       "      <td>2</td>\n",
       "      <td>3</td>\n",
       "      <td>Yes</td>\n",
       "      <td>East</td>\n",
       "    </tr>\n",
       "    <tr>\n",
       "      <th>11</th>\n",
       "      <td>12</td>\n",
       "      <td>123000</td>\n",
       "      <td>1870</td>\n",
       "      <td>2</td>\n",
       "      <td>2</td>\n",
       "      <td>2</td>\n",
       "      <td>Yes</td>\n",
       "      <td>East</td>\n",
       "    </tr>\n",
       "    <tr>\n",
       "      <th>12</th>\n",
       "      <td>13</td>\n",
       "      <td>102600</td>\n",
       "      <td>1910</td>\n",
       "      <td>3</td>\n",
       "      <td>2</td>\n",
       "      <td>4</td>\n",
       "      <td>No</td>\n",
       "      <td>North</td>\n",
       "    </tr>\n",
       "    <tr>\n",
       "      <th>13</th>\n",
       "      <td>14</td>\n",
       "      <td>126300</td>\n",
       "      <td>2150</td>\n",
       "      <td>3</td>\n",
       "      <td>3</td>\n",
       "      <td>5</td>\n",
       "      <td>Yes</td>\n",
       "      <td>North</td>\n",
       "    </tr>\n",
       "    <tr>\n",
       "      <th>14</th>\n",
       "      <td>15</td>\n",
       "      <td>176800</td>\n",
       "      <td>2590</td>\n",
       "      <td>4</td>\n",
       "      <td>3</td>\n",
       "      <td>4</td>\n",
       "      <td>No</td>\n",
       "      <td>West</td>\n",
       "    </tr>\n",
       "    <tr>\n",
       "      <th>15</th>\n",
       "      <td>16</td>\n",
       "      <td>145800</td>\n",
       "      <td>1780</td>\n",
       "      <td>4</td>\n",
       "      <td>2</td>\n",
       "      <td>1</td>\n",
       "      <td>No</td>\n",
       "      <td>West</td>\n",
       "    </tr>\n",
       "    <tr>\n",
       "      <th>16</th>\n",
       "      <td>17</td>\n",
       "      <td>147100</td>\n",
       "      <td>2190</td>\n",
       "      <td>3</td>\n",
       "      <td>3</td>\n",
       "      <td>4</td>\n",
       "      <td>Yes</td>\n",
       "      <td>East</td>\n",
       "    </tr>\n",
       "    <tr>\n",
       "      <th>17</th>\n",
       "      <td>18</td>\n",
       "      <td>83600</td>\n",
       "      <td>1990</td>\n",
       "      <td>3</td>\n",
       "      <td>3</td>\n",
       "      <td>4</td>\n",
       "      <td>No</td>\n",
       "      <td>North</td>\n",
       "    </tr>\n",
       "    <tr>\n",
       "      <th>18</th>\n",
       "      <td>19</td>\n",
       "      <td>111400</td>\n",
       "      <td>1700</td>\n",
       "      <td>2</td>\n",
       "      <td>2</td>\n",
       "      <td>1</td>\n",
       "      <td>Yes</td>\n",
       "      <td>East</td>\n",
       "    </tr>\n",
       "    <tr>\n",
       "      <th>19</th>\n",
       "      <td>20</td>\n",
       "      <td>167200</td>\n",
       "      <td>1920</td>\n",
       "      <td>3</td>\n",
       "      <td>3</td>\n",
       "      <td>2</td>\n",
       "      <td>Yes</td>\n",
       "      <td>West</td>\n",
       "    </tr>\n",
       "    <tr>\n",
       "      <th>20</th>\n",
       "      <td>21</td>\n",
       "      <td>116200</td>\n",
       "      <td>1790</td>\n",
       "      <td>3</td>\n",
       "      <td>2</td>\n",
       "      <td>3</td>\n",
       "      <td>No</td>\n",
       "      <td>East</td>\n",
       "    </tr>\n",
       "    <tr>\n",
       "      <th>21</th>\n",
       "      <td>22</td>\n",
       "      <td>113800</td>\n",
       "      <td>2000</td>\n",
       "      <td>3</td>\n",
       "      <td>2</td>\n",
       "      <td>4</td>\n",
       "      <td>No</td>\n",
       "      <td>North</td>\n",
       "    </tr>\n",
       "    <tr>\n",
       "      <th>22</th>\n",
       "      <td>23</td>\n",
       "      <td>91700</td>\n",
       "      <td>1690</td>\n",
       "      <td>3</td>\n",
       "      <td>2</td>\n",
       "      <td>3</td>\n",
       "      <td>No</td>\n",
       "      <td>North</td>\n",
       "    </tr>\n",
       "    <tr>\n",
       "      <th>23</th>\n",
       "      <td>24</td>\n",
       "      <td>106100</td>\n",
       "      <td>1820</td>\n",
       "      <td>3</td>\n",
       "      <td>2</td>\n",
       "      <td>3</td>\n",
       "      <td>Yes</td>\n",
       "      <td>North</td>\n",
       "    </tr>\n",
       "    <tr>\n",
       "      <th>24</th>\n",
       "      <td>25</td>\n",
       "      <td>156400</td>\n",
       "      <td>2210</td>\n",
       "      <td>4</td>\n",
       "      <td>3</td>\n",
       "      <td>2</td>\n",
       "      <td>Yes</td>\n",
       "      <td>East</td>\n",
       "    </tr>\n",
       "    <tr>\n",
       "      <th>25</th>\n",
       "      <td>26</td>\n",
       "      <td>149300</td>\n",
       "      <td>2290</td>\n",
       "      <td>4</td>\n",
       "      <td>3</td>\n",
       "      <td>3</td>\n",
       "      <td>No</td>\n",
       "      <td>North</td>\n",
       "    </tr>\n",
       "    <tr>\n",
       "      <th>26</th>\n",
       "      <td>27</td>\n",
       "      <td>137000</td>\n",
       "      <td>2000</td>\n",
       "      <td>4</td>\n",
       "      <td>2</td>\n",
       "      <td>3</td>\n",
       "      <td>No</td>\n",
       "      <td>West</td>\n",
       "    </tr>\n",
       "    <tr>\n",
       "      <th>27</th>\n",
       "      <td>28</td>\n",
       "      <td>99300</td>\n",
       "      <td>1700</td>\n",
       "      <td>3</td>\n",
       "      <td>2</td>\n",
       "      <td>2</td>\n",
       "      <td>No</td>\n",
       "      <td>East</td>\n",
       "    </tr>\n",
       "    <tr>\n",
       "      <th>28</th>\n",
       "      <td>29</td>\n",
       "      <td>69100</td>\n",
       "      <td>1600</td>\n",
       "      <td>2</td>\n",
       "      <td>2</td>\n",
       "      <td>3</td>\n",
       "      <td>No</td>\n",
       "      <td>North</td>\n",
       "    </tr>\n",
       "    <tr>\n",
       "      <th>29</th>\n",
       "      <td>30</td>\n",
       "      <td>188000</td>\n",
       "      <td>2040</td>\n",
       "      <td>4</td>\n",
       "      <td>3</td>\n",
       "      <td>1</td>\n",
       "      <td>Yes</td>\n",
       "      <td>West</td>\n",
       "    </tr>\n",
       "    <tr>\n",
       "      <th>30</th>\n",
       "      <td>31</td>\n",
       "      <td>182000</td>\n",
       "      <td>2250</td>\n",
       "      <td>4</td>\n",
       "      <td>3</td>\n",
       "      <td>3</td>\n",
       "      <td>Yes</td>\n",
       "      <td>West</td>\n",
       "    </tr>\n",
       "    <tr>\n",
       "      <th>31</th>\n",
       "      <td>32</td>\n",
       "      <td>112300</td>\n",
       "      <td>1930</td>\n",
       "      <td>2</td>\n",
       "      <td>2</td>\n",
       "      <td>2</td>\n",
       "      <td>Yes</td>\n",
       "      <td>North</td>\n",
       "    </tr>\n",
       "    <tr>\n",
       "      <th>32</th>\n",
       "      <td>33</td>\n",
       "      <td>135000</td>\n",
       "      <td>2250</td>\n",
       "      <td>3</td>\n",
       "      <td>3</td>\n",
       "      <td>3</td>\n",
       "      <td>Yes</td>\n",
       "      <td>East</td>\n",
       "    </tr>\n",
       "    <tr>\n",
       "      <th>33</th>\n",
       "      <td>34</td>\n",
       "      <td>139600</td>\n",
       "      <td>2280</td>\n",
       "      <td>5</td>\n",
       "      <td>3</td>\n",
       "      <td>4</td>\n",
       "      <td>Yes</td>\n",
       "      <td>East</td>\n",
       "    </tr>\n",
       "    <tr>\n",
       "      <th>34</th>\n",
       "      <td>35</td>\n",
       "      <td>117800</td>\n",
       "      <td>2000</td>\n",
       "      <td>2</td>\n",
       "      <td>2</td>\n",
       "      <td>3</td>\n",
       "      <td>No</td>\n",
       "      <td>North</td>\n",
       "    </tr>\n",
       "    <tr>\n",
       "      <th>35</th>\n",
       "      <td>36</td>\n",
       "      <td>117100</td>\n",
       "      <td>2080</td>\n",
       "      <td>3</td>\n",
       "      <td>3</td>\n",
       "      <td>3</td>\n",
       "      <td>No</td>\n",
       "      <td>North</td>\n",
       "    </tr>\n",
       "    <tr>\n",
       "      <th>36</th>\n",
       "      <td>37</td>\n",
       "      <td>117500</td>\n",
       "      <td>1880</td>\n",
       "      <td>2</td>\n",
       "      <td>2</td>\n",
       "      <td>2</td>\n",
       "      <td>No</td>\n",
       "      <td>North</td>\n",
       "    </tr>\n",
       "    <tr>\n",
       "      <th>37</th>\n",
       "      <td>38</td>\n",
       "      <td>147000</td>\n",
       "      <td>2420</td>\n",
       "      <td>4</td>\n",
       "      <td>3</td>\n",
       "      <td>4</td>\n",
       "      <td>No</td>\n",
       "      <td>West</td>\n",
       "    </tr>\n",
       "    <tr>\n",
       "      <th>38</th>\n",
       "      <td>39</td>\n",
       "      <td>131300</td>\n",
       "      <td>1720</td>\n",
       "      <td>3</td>\n",
       "      <td>2</td>\n",
       "      <td>1</td>\n",
       "      <td>No</td>\n",
       "      <td>West</td>\n",
       "    </tr>\n",
       "    <tr>\n",
       "      <th>39</th>\n",
       "      <td>40</td>\n",
       "      <td>108200</td>\n",
       "      <td>1740</td>\n",
       "      <td>3</td>\n",
       "      <td>2</td>\n",
       "      <td>2</td>\n",
       "      <td>No</td>\n",
       "      <td>North</td>\n",
       "    </tr>\n",
       "    <tr>\n",
       "      <th>40</th>\n",
       "      <td>41</td>\n",
       "      <td>106600</td>\n",
       "      <td>1560</td>\n",
       "      <td>2</td>\n",
       "      <td>2</td>\n",
       "      <td>1</td>\n",
       "      <td>No</td>\n",
       "      <td>East</td>\n",
       "    </tr>\n",
       "    <tr>\n",
       "      <th>41</th>\n",
       "      <td>42</td>\n",
       "      <td>133600</td>\n",
       "      <td>1840</td>\n",
       "      <td>4</td>\n",
       "      <td>3</td>\n",
       "      <td>2</td>\n",
       "      <td>No</td>\n",
       "      <td>West</td>\n",
       "    </tr>\n",
       "    <tr>\n",
       "      <th>42</th>\n",
       "      <td>43</td>\n",
       "      <td>105600</td>\n",
       "      <td>1990</td>\n",
       "      <td>2</td>\n",
       "      <td>2</td>\n",
       "      <td>3</td>\n",
       "      <td>No</td>\n",
       "      <td>East</td>\n",
       "    </tr>\n",
       "    <tr>\n",
       "      <th>43</th>\n",
       "      <td>44</td>\n",
       "      <td>154000</td>\n",
       "      <td>1920</td>\n",
       "      <td>3</td>\n",
       "      <td>2</td>\n",
       "      <td>1</td>\n",
       "      <td>Yes</td>\n",
       "      <td>East</td>\n",
       "    </tr>\n",
       "    <tr>\n",
       "      <th>44</th>\n",
       "      <td>45</td>\n",
       "      <td>166500</td>\n",
       "      <td>1940</td>\n",
       "      <td>3</td>\n",
       "      <td>3</td>\n",
       "      <td>2</td>\n",
       "      <td>Yes</td>\n",
       "      <td>West</td>\n",
       "    </tr>\n",
       "    <tr>\n",
       "      <th>45</th>\n",
       "      <td>46</td>\n",
       "      <td>103200</td>\n",
       "      <td>1810</td>\n",
       "      <td>3</td>\n",
       "      <td>2</td>\n",
       "      <td>3</td>\n",
       "      <td>No</td>\n",
       "      <td>East</td>\n",
       "    </tr>\n",
       "    <tr>\n",
       "      <th>46</th>\n",
       "      <td>47</td>\n",
       "      <td>129800</td>\n",
       "      <td>1990</td>\n",
       "      <td>2</td>\n",
       "      <td>3</td>\n",
       "      <td>2</td>\n",
       "      <td>No</td>\n",
       "      <td>North</td>\n",
       "    </tr>\n",
       "    <tr>\n",
       "      <th>47</th>\n",
       "      <td>48</td>\n",
       "      <td>90300</td>\n",
       "      <td>2050</td>\n",
       "      <td>3</td>\n",
       "      <td>2</td>\n",
       "      <td>6</td>\n",
       "      <td>No</td>\n",
       "      <td>North</td>\n",
       "    </tr>\n",
       "    <tr>\n",
       "      <th>48</th>\n",
       "      <td>49</td>\n",
       "      <td>115900</td>\n",
       "      <td>1980</td>\n",
       "      <td>2</td>\n",
       "      <td>2</td>\n",
       "      <td>2</td>\n",
       "      <td>No</td>\n",
       "      <td>East</td>\n",
       "    </tr>\n",
       "    <tr>\n",
       "      <th>49</th>\n",
       "      <td>50</td>\n",
       "      <td>107500</td>\n",
       "      <td>1700</td>\n",
       "      <td>3</td>\n",
       "      <td>2</td>\n",
       "      <td>3</td>\n",
       "      <td>Yes</td>\n",
       "      <td>North</td>\n",
       "    </tr>\n",
       "  </tbody>\n",
       "</table>\n",
       "</div>"
      ],
      "text/plain": [
       "    Home   Price  SqFt  Bedrooms  Bathrooms  Offers Brick Neighborhood\n",
       "0      1  114300  1790         2          2       2    No         East\n",
       "1      2  114200  2030         4          2       3    No         East\n",
       "2      3  114800  1740         3          2       1    No         East\n",
       "3      4   94700  1980         3          2       3    No         East\n",
       "4      5  119800  2130         3          3       3    No         East\n",
       "5      6  114600  1780         3          2       2    No        North\n",
       "6      7  151600  1830         3          3       3   Yes         West\n",
       "7      8  150700  2160         4          2       2    No         West\n",
       "8      9  119200  2110         4          2       3    No         East\n",
       "9     10  104000  1730         3          3       3    No         East\n",
       "10    11  132500  2030         3          2       3   Yes         East\n",
       "11    12  123000  1870         2          2       2   Yes         East\n",
       "12    13  102600  1910         3          2       4    No        North\n",
       "13    14  126300  2150         3          3       5   Yes        North\n",
       "14    15  176800  2590         4          3       4    No         West\n",
       "15    16  145800  1780         4          2       1    No         West\n",
       "16    17  147100  2190         3          3       4   Yes         East\n",
       "17    18   83600  1990         3          3       4    No        North\n",
       "18    19  111400  1700         2          2       1   Yes         East\n",
       "19    20  167200  1920         3          3       2   Yes         West\n",
       "20    21  116200  1790         3          2       3    No         East\n",
       "21    22  113800  2000         3          2       4    No        North\n",
       "22    23   91700  1690         3          2       3    No        North\n",
       "23    24  106100  1820         3          2       3   Yes        North\n",
       "24    25  156400  2210         4          3       2   Yes         East\n",
       "25    26  149300  2290         4          3       3    No        North\n",
       "26    27  137000  2000         4          2       3    No         West\n",
       "27    28   99300  1700         3          2       2    No         East\n",
       "28    29   69100  1600         2          2       3    No        North\n",
       "29    30  188000  2040         4          3       1   Yes         West\n",
       "30    31  182000  2250         4          3       3   Yes         West\n",
       "31    32  112300  1930         2          2       2   Yes        North\n",
       "32    33  135000  2250         3          3       3   Yes         East\n",
       "33    34  139600  2280         5          3       4   Yes         East\n",
       "34    35  117800  2000         2          2       3    No        North\n",
       "35    36  117100  2080         3          3       3    No        North\n",
       "36    37  117500  1880         2          2       2    No        North\n",
       "37    38  147000  2420         4          3       4    No         West\n",
       "38    39  131300  1720         3          2       1    No         West\n",
       "39    40  108200  1740         3          2       2    No        North\n",
       "40    41  106600  1560         2          2       1    No         East\n",
       "41    42  133600  1840         4          3       2    No         West\n",
       "42    43  105600  1990         2          2       3    No         East\n",
       "43    44  154000  1920         3          2       1   Yes         East\n",
       "44    45  166500  1940         3          3       2   Yes         West\n",
       "45    46  103200  1810         3          2       3    No         East\n",
       "46    47  129800  1990         2          3       2    No        North\n",
       "47    48   90300  2050         3          2       6    No        North\n",
       "48    49  115900  1980         2          2       2    No         East\n",
       "49    50  107500  1700         3          2       3   Yes        North"
      ]
     },
     "execution_count": 3,
     "metadata": {},
     "output_type": "execute_result"
    }
   ],
   "source": [
    "df.head(50)"
   ]
  },
  {
   "cell_type": "code",
   "execution_count": 4,
   "id": "29000d7d",
   "metadata": {},
   "outputs": [
    {
     "name": "stdout",
     "output_type": "stream",
     "text": [
      "The train data has 128 rows and 8 columns\n"
     ]
    }
   ],
   "source": [
    "# count the total number of rows and columns.\n",
    "print ('The train data has {0} rows and {1} columns'.format(df.shape[0],df.shape[1]))"
   ]
  },
  {
   "cell_type": "markdown",
   "id": "1fe8d792",
   "metadata": {},
   "source": [
    "We noticed that 'price' is our target variable whereas rest are features. Now our problem is build as a supervised learning and our target variable is in continuos data values so we have to apply regression algorithms to build a model\n"
   ]
  },
  {
   "cell_type": "code",
   "execution_count": 5,
   "id": "a50bd682",
   "metadata": {},
   "outputs": [
    {
     "name": "stdout",
     "output_type": "stream",
     "text": [
      "<class 'pandas.core.frame.DataFrame'>\n",
      "RangeIndex: 128 entries, 0 to 127\n",
      "Data columns (total 8 columns):\n",
      " #   Column        Non-Null Count  Dtype \n",
      "---  ------        --------------  ----- \n",
      " 0   Home          128 non-null    int64 \n",
      " 1   Price         128 non-null    int64 \n",
      " 2   SqFt          128 non-null    int64 \n",
      " 3   Bedrooms      128 non-null    int64 \n",
      " 4   Bathrooms     128 non-null    int64 \n",
      " 5   Offers        128 non-null    int64 \n",
      " 6   Brick         128 non-null    object\n",
      " 7   Neighborhood  128 non-null    object\n",
      "dtypes: int64(6), object(2)\n",
      "memory usage: 8.1+ KB\n"
     ]
    }
   ],
   "source": [
    "df.info()"
   ]
  },
  {
   "cell_type": "markdown",
   "id": "46df61f8",
   "metadata": {},
   "source": [
    "with the info function will get to know that we have zero non null values to whole dataset and we have total 3 types of data types in dataset which is, numerical, object and datetime\n",
    "\n",
    "*Now will count the separatly every data type column list*\n",
    "\n",
    "\n"
   ]
  },
  {
   "cell_type": "code",
   "execution_count": 6,
   "id": "1f6b7217",
   "metadata": {},
   "outputs": [],
   "source": [
    "objects_cols = ['object']\n",
    "objects_lst = list(df.select_dtypes(include=objects_cols).columns)\n"
   ]
  },
  {
   "cell_type": "code",
   "execution_count": 7,
   "id": "e9d908d6",
   "metadata": {},
   "outputs": [
    {
     "name": "stdout",
     "output_type": "stream",
     "text": [
      "total number of cateogrical columns are  2\n",
      "there names are as follows:  ['Brick', 'Neighborhood']\n"
     ]
    }
   ],
   "source": [
    "\n",
    "print(\"total number of cateogrical columns are \", len(objects_lst))\n",
    "print(\"there names are as follows: \", objects_lst)"
   ]
  },
  {
   "cell_type": "code",
   "execution_count": 8,
   "id": "916dcb38",
   "metadata": {},
   "outputs": [],
   "source": [
    "int64_cols = ['int64']\n",
    "int64_lst = list(df.select_dtypes(include=int64_cols).columns)\n",
    "\n"
   ]
  },
  {
   "cell_type": "code",
   "execution_count": 9,
   "id": "bb652bee",
   "metadata": {},
   "outputs": [
    {
     "name": "stdout",
     "output_type": "stream",
     "text": [
      "total number of numerical columns are  6\n",
      "there names are as follows:  ['Home', 'Price', 'SqFt', 'Bedrooms', 'Bathrooms', 'Offers']\n"
     ]
    }
   ],
   "source": [
    "print(\"total number of numerical columns are \", len(int64_lst))\n",
    "print(\"there names are as follows: \", int64_lst)"
   ]
  },
  {
   "cell_type": "markdown",
   "id": "607ab483",
   "metadata": {},
   "source": [
    "as we have Home column in our dataset if we count the unique values of id column which shown below and also len of dataset"
   ]
  },
  {
   "cell_type": "code",
   "execution_count": 10,
   "id": "fff00376",
   "metadata": {},
   "outputs": [
    {
     "data": {
      "text/plain": [
       "(128, 128)"
      ]
     },
     "execution_count": 10,
     "metadata": {},
     "output_type": "execute_result"
    }
   ],
   "source": [
    "len(df['Home'].unique()), df.shape[0]"
   ]
  },
  {
   "cell_type": "markdown",
   "id": "65a170bb",
   "metadata": {},
   "source": [
    "- we notice that uniqueness of id column and length of the dataset both are same that means there is no sense to keep id column"
   ]
  },
  {
   "cell_type": "markdown",
   "id": "708a583c",
   "metadata": {},
   "source": [
    "# DATA PREPROCESSING"
   ]
  },
  {
   "cell_type": "code",
   "execution_count": 11,
   "id": "1c003ae7",
   "metadata": {},
   "outputs": [],
   "source": [
    "df = df.drop(['Home'], axis = 1)"
   ]
  },
  {
   "cell_type": "code",
   "execution_count": 12,
   "id": "2e67d123",
   "metadata": {},
   "outputs": [
    {
     "data": {
      "text/html": [
       "<div>\n",
       "<style scoped>\n",
       "    .dataframe tbody tr th:only-of-type {\n",
       "        vertical-align: middle;\n",
       "    }\n",
       "\n",
       "    .dataframe tbody tr th {\n",
       "        vertical-align: top;\n",
       "    }\n",
       "\n",
       "    .dataframe thead th {\n",
       "        text-align: right;\n",
       "    }\n",
       "</style>\n",
       "<table border=\"1\" class=\"dataframe\">\n",
       "  <thead>\n",
       "    <tr style=\"text-align: right;\">\n",
       "      <th></th>\n",
       "      <th>Price</th>\n",
       "      <th>SqFt</th>\n",
       "      <th>Bedrooms</th>\n",
       "      <th>Bathrooms</th>\n",
       "      <th>Offers</th>\n",
       "      <th>Brick</th>\n",
       "      <th>Neighborhood</th>\n",
       "    </tr>\n",
       "  </thead>\n",
       "  <tbody>\n",
       "    <tr>\n",
       "      <th>0</th>\n",
       "      <td>114300</td>\n",
       "      <td>1790</td>\n",
       "      <td>2</td>\n",
       "      <td>2</td>\n",
       "      <td>2</td>\n",
       "      <td>No</td>\n",
       "      <td>East</td>\n",
       "    </tr>\n",
       "    <tr>\n",
       "      <th>1</th>\n",
       "      <td>114200</td>\n",
       "      <td>2030</td>\n",
       "      <td>4</td>\n",
       "      <td>2</td>\n",
       "      <td>3</td>\n",
       "      <td>No</td>\n",
       "      <td>East</td>\n",
       "    </tr>\n",
       "    <tr>\n",
       "      <th>2</th>\n",
       "      <td>114800</td>\n",
       "      <td>1740</td>\n",
       "      <td>3</td>\n",
       "      <td>2</td>\n",
       "      <td>1</td>\n",
       "      <td>No</td>\n",
       "      <td>East</td>\n",
       "    </tr>\n",
       "    <tr>\n",
       "      <th>3</th>\n",
       "      <td>94700</td>\n",
       "      <td>1980</td>\n",
       "      <td>3</td>\n",
       "      <td>2</td>\n",
       "      <td>3</td>\n",
       "      <td>No</td>\n",
       "      <td>East</td>\n",
       "    </tr>\n",
       "    <tr>\n",
       "      <th>4</th>\n",
       "      <td>119800</td>\n",
       "      <td>2130</td>\n",
       "      <td>3</td>\n",
       "      <td>3</td>\n",
       "      <td>3</td>\n",
       "      <td>No</td>\n",
       "      <td>East</td>\n",
       "    </tr>\n",
       "    <tr>\n",
       "      <th>...</th>\n",
       "      <td>...</td>\n",
       "      <td>...</td>\n",
       "      <td>...</td>\n",
       "      <td>...</td>\n",
       "      <td>...</td>\n",
       "      <td>...</td>\n",
       "      <td>...</td>\n",
       "    </tr>\n",
       "    <tr>\n",
       "      <th>123</th>\n",
       "      <td>119700</td>\n",
       "      <td>1900</td>\n",
       "      <td>3</td>\n",
       "      <td>3</td>\n",
       "      <td>3</td>\n",
       "      <td>Yes</td>\n",
       "      <td>East</td>\n",
       "    </tr>\n",
       "    <tr>\n",
       "      <th>124</th>\n",
       "      <td>147900</td>\n",
       "      <td>2160</td>\n",
       "      <td>4</td>\n",
       "      <td>3</td>\n",
       "      <td>3</td>\n",
       "      <td>Yes</td>\n",
       "      <td>East</td>\n",
       "    </tr>\n",
       "    <tr>\n",
       "      <th>125</th>\n",
       "      <td>113500</td>\n",
       "      <td>2070</td>\n",
       "      <td>2</td>\n",
       "      <td>2</td>\n",
       "      <td>2</td>\n",
       "      <td>No</td>\n",
       "      <td>North</td>\n",
       "    </tr>\n",
       "    <tr>\n",
       "      <th>126</th>\n",
       "      <td>149900</td>\n",
       "      <td>2020</td>\n",
       "      <td>3</td>\n",
       "      <td>3</td>\n",
       "      <td>1</td>\n",
       "      <td>No</td>\n",
       "      <td>West</td>\n",
       "    </tr>\n",
       "    <tr>\n",
       "      <th>127</th>\n",
       "      <td>124600</td>\n",
       "      <td>2250</td>\n",
       "      <td>3</td>\n",
       "      <td>3</td>\n",
       "      <td>4</td>\n",
       "      <td>No</td>\n",
       "      <td>North</td>\n",
       "    </tr>\n",
       "  </tbody>\n",
       "</table>\n",
       "<p>128 rows × 7 columns</p>\n",
       "</div>"
      ],
      "text/plain": [
       "      Price  SqFt  Bedrooms  Bathrooms  Offers Brick Neighborhood\n",
       "0    114300  1790         2          2       2    No         East\n",
       "1    114200  2030         4          2       3    No         East\n",
       "2    114800  1740         3          2       1    No         East\n",
       "3     94700  1980         3          2       3    No         East\n",
       "4    119800  2130         3          3       3    No         East\n",
       "..      ...   ...       ...        ...     ...   ...          ...\n",
       "123  119700  1900         3          3       3   Yes         East\n",
       "124  147900  2160         4          3       3   Yes         East\n",
       "125  113500  2070         2          2       2    No        North\n",
       "126  149900  2020         3          3       1    No         West\n",
       "127  124600  2250         3          3       4    No        North\n",
       "\n",
       "[128 rows x 7 columns]"
      ]
     },
     "execution_count": 12,
     "metadata": {},
     "output_type": "execute_result"
    }
   ],
   "source": [
    "# now we have the dataframe\n",
    "df"
   ]
  },
  {
   "cell_type": "code",
   "execution_count": 13,
   "id": "11302247",
   "metadata": {},
   "outputs": [
    {
     "name": "stdout",
     "output_type": "stream",
     "text": [
      "The new dataset has 128 rows and 7 columns\n"
     ]
    }
   ],
   "source": [
    "#count the total number of rows and columns.\n",
    "print ('The new dataset has {0} rows and {1} columns'.format(df.shape[0],df.shape[1]))"
   ]
  },
  {
   "cell_type": "markdown",
   "id": "f279472f",
   "metadata": {},
   "source": [
    "# Step 3: Descriptive Analysis\n",
    "\n",
    "Goal/Purpose: find the data distribution of the features. Visyalization, it helps to understand data and also to explain the data to another person\n",
    "\n",
    "**Things we are going to do in this step:**\n",
    "\n",
    "1. Mean\n",
    "2. Median\n",
    "3. Mode\n",
    "4. Standard Deviation\n",
    "5. Variance\n",
    "6. Null Values\n",
    "7. NaN Values\n",
    "8. Min value\n",
    "9. Max value\n",
    "10. Count Value\n",
    "11. Quatilers\n",
    "12. Correlation\n",
    "13. Skewness"
   ]
  },
  {
   "cell_type": "code",
   "execution_count": 14,
   "id": "ae53a52a",
   "metadata": {},
   "outputs": [
    {
     "data": {
      "text/html": [
       "<div>\n",
       "<style scoped>\n",
       "    .dataframe tbody tr th:only-of-type {\n",
       "        vertical-align: middle;\n",
       "    }\n",
       "\n",
       "    .dataframe tbody tr th {\n",
       "        vertical-align: top;\n",
       "    }\n",
       "\n",
       "    .dataframe thead th {\n",
       "        text-align: right;\n",
       "    }\n",
       "</style>\n",
       "<table border=\"1\" class=\"dataframe\">\n",
       "  <thead>\n",
       "    <tr style=\"text-align: right;\">\n",
       "      <th></th>\n",
       "      <th>Price</th>\n",
       "      <th>SqFt</th>\n",
       "      <th>Bedrooms</th>\n",
       "      <th>Bathrooms</th>\n",
       "      <th>Offers</th>\n",
       "      <th>Brick</th>\n",
       "      <th>Neighborhood</th>\n",
       "    </tr>\n",
       "  </thead>\n",
       "  <tbody>\n",
       "    <tr>\n",
       "      <th>count</th>\n",
       "      <td>128.000000</td>\n",
       "      <td>128.000000</td>\n",
       "      <td>128.000000</td>\n",
       "      <td>128.000000</td>\n",
       "      <td>128.000000</td>\n",
       "      <td>128</td>\n",
       "      <td>128</td>\n",
       "    </tr>\n",
       "    <tr>\n",
       "      <th>unique</th>\n",
       "      <td>NaN</td>\n",
       "      <td>NaN</td>\n",
       "      <td>NaN</td>\n",
       "      <td>NaN</td>\n",
       "      <td>NaN</td>\n",
       "      <td>2</td>\n",
       "      <td>3</td>\n",
       "    </tr>\n",
       "    <tr>\n",
       "      <th>top</th>\n",
       "      <td>NaN</td>\n",
       "      <td>NaN</td>\n",
       "      <td>NaN</td>\n",
       "      <td>NaN</td>\n",
       "      <td>NaN</td>\n",
       "      <td>No</td>\n",
       "      <td>East</td>\n",
       "    </tr>\n",
       "    <tr>\n",
       "      <th>freq</th>\n",
       "      <td>NaN</td>\n",
       "      <td>NaN</td>\n",
       "      <td>NaN</td>\n",
       "      <td>NaN</td>\n",
       "      <td>NaN</td>\n",
       "      <td>86</td>\n",
       "      <td>45</td>\n",
       "    </tr>\n",
       "    <tr>\n",
       "      <th>mean</th>\n",
       "      <td>130427.343750</td>\n",
       "      <td>2000.937500</td>\n",
       "      <td>3.023438</td>\n",
       "      <td>2.445312</td>\n",
       "      <td>2.578125</td>\n",
       "      <td>NaN</td>\n",
       "      <td>NaN</td>\n",
       "    </tr>\n",
       "    <tr>\n",
       "      <th>std</th>\n",
       "      <td>26868.770371</td>\n",
       "      <td>211.572431</td>\n",
       "      <td>0.725951</td>\n",
       "      <td>0.514492</td>\n",
       "      <td>1.069324</td>\n",
       "      <td>NaN</td>\n",
       "      <td>NaN</td>\n",
       "    </tr>\n",
       "    <tr>\n",
       "      <th>min</th>\n",
       "      <td>69100.000000</td>\n",
       "      <td>1450.000000</td>\n",
       "      <td>2.000000</td>\n",
       "      <td>2.000000</td>\n",
       "      <td>1.000000</td>\n",
       "      <td>NaN</td>\n",
       "      <td>NaN</td>\n",
       "    </tr>\n",
       "    <tr>\n",
       "      <th>25%</th>\n",
       "      <td>111325.000000</td>\n",
       "      <td>1880.000000</td>\n",
       "      <td>3.000000</td>\n",
       "      <td>2.000000</td>\n",
       "      <td>2.000000</td>\n",
       "      <td>NaN</td>\n",
       "      <td>NaN</td>\n",
       "    </tr>\n",
       "    <tr>\n",
       "      <th>50%</th>\n",
       "      <td>125950.000000</td>\n",
       "      <td>2000.000000</td>\n",
       "      <td>3.000000</td>\n",
       "      <td>2.000000</td>\n",
       "      <td>3.000000</td>\n",
       "      <td>NaN</td>\n",
       "      <td>NaN</td>\n",
       "    </tr>\n",
       "    <tr>\n",
       "      <th>75%</th>\n",
       "      <td>148250.000000</td>\n",
       "      <td>2140.000000</td>\n",
       "      <td>3.000000</td>\n",
       "      <td>3.000000</td>\n",
       "      <td>3.000000</td>\n",
       "      <td>NaN</td>\n",
       "      <td>NaN</td>\n",
       "    </tr>\n",
       "    <tr>\n",
       "      <th>max</th>\n",
       "      <td>211200.000000</td>\n",
       "      <td>2590.000000</td>\n",
       "      <td>5.000000</td>\n",
       "      <td>4.000000</td>\n",
       "      <td>6.000000</td>\n",
       "      <td>NaN</td>\n",
       "      <td>NaN</td>\n",
       "    </tr>\n",
       "  </tbody>\n",
       "</table>\n",
       "</div>"
      ],
      "text/plain": [
       "                Price         SqFt    Bedrooms   Bathrooms      Offers Brick  \\\n",
       "count      128.000000   128.000000  128.000000  128.000000  128.000000   128   \n",
       "unique            NaN          NaN         NaN         NaN         NaN     2   \n",
       "top               NaN          NaN         NaN         NaN         NaN    No   \n",
       "freq              NaN          NaN         NaN         NaN         NaN    86   \n",
       "mean    130427.343750  2000.937500    3.023438    2.445312    2.578125   NaN   \n",
       "std      26868.770371   211.572431    0.725951    0.514492    1.069324   NaN   \n",
       "min      69100.000000  1450.000000    2.000000    2.000000    1.000000   NaN   \n",
       "25%     111325.000000  1880.000000    3.000000    2.000000    2.000000   NaN   \n",
       "50%     125950.000000  2000.000000    3.000000    2.000000    3.000000   NaN   \n",
       "75%     148250.000000  2140.000000    3.000000    3.000000    3.000000   NaN   \n",
       "max     211200.000000  2590.000000    5.000000    4.000000    6.000000   NaN   \n",
       "\n",
       "       Neighborhood  \n",
       "count           128  \n",
       "unique            3  \n",
       "top            East  \n",
       "freq             45  \n",
       "mean            NaN  \n",
       "std             NaN  \n",
       "min             NaN  \n",
       "25%             NaN  \n",
       "50%             NaN  \n",
       "75%             NaN  \n",
       "max             NaN  "
      ]
     },
     "execution_count": 14,
     "metadata": {},
     "output_type": "execute_result"
    }
   ],
   "source": [
    "df.describe(include = 'all')"
   ]
  },
  {
   "cell_type": "markdown",
   "id": "b2989125",
   "metadata": {},
   "source": [
    "# Measure the variability of data of the dataset\n",
    "\n",
    "Variability describes how far apart data points lie from each other and from the center of a distribution."
   ]
  },
  {
   "cell_type": "markdown",
   "id": "31ce7305",
   "metadata": {},
   "source": [
    "# 1. Standard Deviation\n",
    "\n",
    "*The standard deviation is the average amount of variability in your dataset.*\n",
    "\n",
    "It tells you, on average, how far each data point lies from the mean. The larger the standard deviation, the more variable the data set is and if zero variance then there is no variability in the dataset that means there no use of that dataset."
   ]
  },
  {
   "cell_type": "code",
   "execution_count": 15,
   "id": "10063a9c",
   "metadata": {},
   "outputs": [
    {
     "data": {
      "text/plain": [
       "Price        26868.770371\n",
       "SqFt           211.572431\n",
       "Bedrooms         0.725951\n",
       "Bathrooms        0.514492\n",
       "Offers           1.069324\n",
       "dtype: float64"
      ]
     },
     "execution_count": 15,
     "metadata": {},
     "output_type": "execute_result"
    }
   ],
   "source": [
    "df.std()"
   ]
  },
  {
   "cell_type": "markdown",
   "id": "48655e70",
   "metadata": {},
   "source": [
    "# 2. Variance\n",
    "\n",
    "The variance is the average of squared deviations from the mean. A deviation from the mean is how far a score lies from the mean.\n",
    "\n",
    "Variance is the square of the standard deviation. This means that the units of variance are much larger than those of a typical value of a data set."
   ]
  },
  {
   "cell_type": "code",
   "execution_count": 16,
   "id": "4f68bd91",
   "metadata": {},
   "outputs": [
    {
     "data": {
      "text/plain": [
       "Price        7.219308e+08\n",
       "SqFt         4.476289e+04\n",
       "Bedrooms     5.270054e-01\n",
       "Bathrooms    2.647023e-01\n",
       "Offers       1.143455e+00\n",
       "dtype: float64"
      ]
     },
     "execution_count": 16,
     "metadata": {},
     "output_type": "execute_result"
    }
   ],
   "source": [
    "df.var()"
   ]
  },
  {
   "cell_type": "markdown",
   "id": "f1515bda",
   "metadata": {},
   "source": [
    "# Measure central tendency\n",
    "\n",
    "A measure of central tendency is a single value that attempts to describe a set of data by identifying the central position within that set of data. As such, measures of central tendency are sometimes called measures of central location. They are also classed as summary statistics."
   ]
  },
  {
   "cell_type": "markdown",
   "id": "37fb6e6c",
   "metadata": {},
   "source": [
    "# 1. Mean\n",
    "\n",
    "The mean is the arithmetic average, and it is probably the measure of central tendency that you are most familiar."
   ]
  },
  {
   "cell_type": "code",
   "execution_count": 17,
   "id": "81b7ffee",
   "metadata": {},
   "outputs": [
    {
     "data": {
      "text/plain": [
       "Price        130427.343750\n",
       "SqFt           2000.937500\n",
       "Bedrooms          3.023438\n",
       "Bathrooms         2.445312\n",
       "Offers            2.578125\n",
       "dtype: float64"
      ]
     },
     "execution_count": 17,
     "metadata": {},
     "output_type": "execute_result"
    }
   ],
   "source": [
    "df.mean()"
   ]
  },
  {
   "cell_type": "markdown",
   "id": "3f6cee35",
   "metadata": {},
   "source": [
    "# 2. Median\n",
    "\n",
    "The median is the middle value. It is the value that splits the dataset in half."
   ]
  },
  {
   "cell_type": "code",
   "execution_count": 18,
   "id": "c3d2f0c0",
   "metadata": {},
   "outputs": [
    {
     "data": {
      "text/plain": [
       "Price        125950.0\n",
       "SqFt           2000.0\n",
       "Bedrooms          3.0\n",
       "Bathrooms         2.0\n",
       "Offers            3.0\n",
       "dtype: float64"
      ]
     },
     "execution_count": 18,
     "metadata": {},
     "output_type": "execute_result"
    }
   ],
   "source": [
    "df.median()"
   ]
  },
  {
   "cell_type": "markdown",
   "id": "d9d8c674",
   "metadata": {},
   "source": [
    "# 3. Mode\n",
    "\n",
    "The mode is the value that occurs the most frequently in your data set. On a bar chart, the mode is the highest bar. If the data have multiple values that are tied for occurring the most frequently, you have a multimodal distribution. If no value repeats, the data do not have a mode.\n",
    "\n",
    "\n"
   ]
  },
  {
   "cell_type": "code",
   "execution_count": 19,
   "id": "55615479",
   "metadata": {},
   "outputs": [
    {
     "data": {
      "text/html": [
       "<div>\n",
       "<style scoped>\n",
       "    .dataframe tbody tr th:only-of-type {\n",
       "        vertical-align: middle;\n",
       "    }\n",
       "\n",
       "    .dataframe tbody tr th {\n",
       "        vertical-align: top;\n",
       "    }\n",
       "\n",
       "    .dataframe thead th {\n",
       "        text-align: right;\n",
       "    }\n",
       "</style>\n",
       "<table border=\"1\" class=\"dataframe\">\n",
       "  <thead>\n",
       "    <tr style=\"text-align: right;\">\n",
       "      <th></th>\n",
       "      <th>Price</th>\n",
       "      <th>SqFt</th>\n",
       "      <th>Bedrooms</th>\n",
       "      <th>Bathrooms</th>\n",
       "      <th>Offers</th>\n",
       "      <th>Brick</th>\n",
       "      <th>Neighborhood</th>\n",
       "    </tr>\n",
       "  </thead>\n",
       "  <tbody>\n",
       "    <tr>\n",
       "      <th>0</th>\n",
       "      <td>103200</td>\n",
       "      <td>1920.0</td>\n",
       "      <td>3.0</td>\n",
       "      <td>2.0</td>\n",
       "      <td>3.0</td>\n",
       "      <td>No</td>\n",
       "      <td>East</td>\n",
       "    </tr>\n",
       "    <tr>\n",
       "      <th>1</th>\n",
       "      <td>105600</td>\n",
       "      <td>1930.0</td>\n",
       "      <td>NaN</td>\n",
       "      <td>NaN</td>\n",
       "      <td>NaN</td>\n",
       "      <td>NaN</td>\n",
       "      <td>NaN</td>\n",
       "    </tr>\n",
       "    <tr>\n",
       "      <th>2</th>\n",
       "      <td>117800</td>\n",
       "      <td>2000.0</td>\n",
       "      <td>NaN</td>\n",
       "      <td>NaN</td>\n",
       "      <td>NaN</td>\n",
       "      <td>NaN</td>\n",
       "      <td>NaN</td>\n",
       "    </tr>\n",
       "    <tr>\n",
       "      <th>3</th>\n",
       "      <td>125700</td>\n",
       "      <td>NaN</td>\n",
       "      <td>NaN</td>\n",
       "      <td>NaN</td>\n",
       "      <td>NaN</td>\n",
       "      <td>NaN</td>\n",
       "      <td>NaN</td>\n",
       "    </tr>\n",
       "    <tr>\n",
       "      <th>4</th>\n",
       "      <td>129800</td>\n",
       "      <td>NaN</td>\n",
       "      <td>NaN</td>\n",
       "      <td>NaN</td>\n",
       "      <td>NaN</td>\n",
       "      <td>NaN</td>\n",
       "      <td>NaN</td>\n",
       "    </tr>\n",
       "  </tbody>\n",
       "</table>\n",
       "</div>"
      ],
      "text/plain": [
       "    Price    SqFt  Bedrooms  Bathrooms  Offers Brick Neighborhood\n",
       "0  103200  1920.0       3.0        2.0     3.0    No         East\n",
       "1  105600  1930.0       NaN        NaN     NaN   NaN          NaN\n",
       "2  117800  2000.0       NaN        NaN     NaN   NaN          NaN\n",
       "3  125700     NaN       NaN        NaN     NaN   NaN          NaN\n",
       "4  129800     NaN       NaN        NaN     NaN   NaN          NaN"
      ]
     },
     "execution_count": 19,
     "metadata": {},
     "output_type": "execute_result"
    }
   ],
   "source": [
    "df.mode()"
   ]
  },
  {
   "cell_type": "code",
   "execution_count": 20,
   "id": "1c41a8bf",
   "metadata": {},
   "outputs": [
    {
     "data": {
      "text/plain": [
       "0"
      ]
     },
     "execution_count": 20,
     "metadata": {},
     "output_type": "execute_result"
    }
   ],
   "source": [
    "df.duplicated().sum()"
   ]
  },
  {
   "cell_type": "markdown",
   "id": "a6d2729b",
   "metadata": {},
   "source": [
    "# Null and Nan values"
   ]
  },
  {
   "cell_type": "markdown",
   "id": "f6464fe6",
   "metadata": {},
   "source": [
    "**1. NULL Values**"
   ]
  },
  {
   "cell_type": "code",
   "execution_count": 21,
   "id": "5d10ee27",
   "metadata": {},
   "outputs": [
    {
     "data": {
      "text/plain": [
       "Price           0\n",
       "SqFt            0\n",
       "Bedrooms        0\n",
       "Bathrooms       0\n",
       "Offers          0\n",
       "Brick           0\n",
       "Neighborhood    0\n",
       "dtype: int64"
      ]
     },
     "execution_count": 21,
     "metadata": {},
     "output_type": "execute_result"
    }
   ],
   "source": [
    "df.isnull().sum()"
   ]
  },
  {
   "cell_type": "markdown",
   "id": "6509a60e",
   "metadata": {},
   "source": [
    "as we can see we dont have any NULL Values in dataset"
   ]
  },
  {
   "cell_type": "markdown",
   "id": "8f7f2f98",
   "metadata": {},
   "source": [
    "**2. NAN Values**"
   ]
  },
  {
   "cell_type": "code",
   "execution_count": 22,
   "id": "d8689df0",
   "metadata": {},
   "outputs": [
    {
     "data": {
      "text/plain": [
       "Price           0\n",
       "SqFt            0\n",
       "Bedrooms        0\n",
       "Bathrooms       0\n",
       "Offers          0\n",
       "Brick           0\n",
       "Neighborhood    0\n",
       "dtype: int64"
      ]
     },
     "execution_count": 22,
     "metadata": {},
     "output_type": "execute_result"
    }
   ],
   "source": [
    "df.isna().sum()"
   ]
  },
  {
   "cell_type": "markdown",
   "id": "05cc5b0b",
   "metadata": {},
   "source": [
    "as we can see we dont have any NAN Values in dataset"
   ]
  },
  {
   "cell_type": "markdown",
   "id": "2b156bb4",
   "metadata": {},
   "source": [
    "# Count of unique occurences of every value in all categorical value"
   ]
  },
  {
   "cell_type": "code",
   "execution_count": 23,
   "id": "c52ce45e",
   "metadata": {},
   "outputs": [
    {
     "name": "stdout",
     "output_type": "stream",
     "text": [
      "Brick : ['No' 'Yes']\n",
      "Neighborhood : ['East' 'North' 'West']\n"
     ]
    }
   ],
   "source": [
    "for value in objects_lst:\n",
    "    print(value, \":\", df[value].unique()) "
   ]
  },
  {
   "cell_type": "code",
   "execution_count": 24,
   "id": "64d43021",
   "metadata": {},
   "outputs": [],
   "source": [
    "#lets convert categorical values into numeric\n",
    "# by using one hot encoder\n",
    "brick = pd.get_dummies(df['Brick'])"
   ]
  },
  {
   "cell_type": "code",
   "execution_count": 25,
   "id": "9b0b8a24",
   "metadata": {},
   "outputs": [],
   "source": [
    "neighborhood = pd.get_dummies(df['Neighborhood'])"
   ]
  },
  {
   "cell_type": "code",
   "execution_count": 26,
   "id": "a3c28137",
   "metadata": {},
   "outputs": [
    {
     "data": {
      "text/html": [
       "<div>\n",
       "<style scoped>\n",
       "    .dataframe tbody tr th:only-of-type {\n",
       "        vertical-align: middle;\n",
       "    }\n",
       "\n",
       "    .dataframe tbody tr th {\n",
       "        vertical-align: top;\n",
       "    }\n",
       "\n",
       "    .dataframe thead th {\n",
       "        text-align: right;\n",
       "    }\n",
       "</style>\n",
       "<table border=\"1\" class=\"dataframe\">\n",
       "  <thead>\n",
       "    <tr style=\"text-align: right;\">\n",
       "      <th></th>\n",
       "      <th>No</th>\n",
       "      <th>Yes</th>\n",
       "    </tr>\n",
       "  </thead>\n",
       "  <tbody>\n",
       "    <tr>\n",
       "      <th>0</th>\n",
       "      <td>1</td>\n",
       "      <td>0</td>\n",
       "    </tr>\n",
       "    <tr>\n",
       "      <th>1</th>\n",
       "      <td>1</td>\n",
       "      <td>0</td>\n",
       "    </tr>\n",
       "    <tr>\n",
       "      <th>2</th>\n",
       "      <td>1</td>\n",
       "      <td>0</td>\n",
       "    </tr>\n",
       "    <tr>\n",
       "      <th>3</th>\n",
       "      <td>1</td>\n",
       "      <td>0</td>\n",
       "    </tr>\n",
       "    <tr>\n",
       "      <th>4</th>\n",
       "      <td>1</td>\n",
       "      <td>0</td>\n",
       "    </tr>\n",
       "    <tr>\n",
       "      <th>...</th>\n",
       "      <td>...</td>\n",
       "      <td>...</td>\n",
       "    </tr>\n",
       "    <tr>\n",
       "      <th>123</th>\n",
       "      <td>0</td>\n",
       "      <td>1</td>\n",
       "    </tr>\n",
       "    <tr>\n",
       "      <th>124</th>\n",
       "      <td>0</td>\n",
       "      <td>1</td>\n",
       "    </tr>\n",
       "    <tr>\n",
       "      <th>125</th>\n",
       "      <td>1</td>\n",
       "      <td>0</td>\n",
       "    </tr>\n",
       "    <tr>\n",
       "      <th>126</th>\n",
       "      <td>1</td>\n",
       "      <td>0</td>\n",
       "    </tr>\n",
       "    <tr>\n",
       "      <th>127</th>\n",
       "      <td>1</td>\n",
       "      <td>0</td>\n",
       "    </tr>\n",
       "  </tbody>\n",
       "</table>\n",
       "<p>128 rows × 2 columns</p>\n",
       "</div>"
      ],
      "text/plain": [
       "     No  Yes\n",
       "0     1    0\n",
       "1     1    0\n",
       "2     1    0\n",
       "3     1    0\n",
       "4     1    0\n",
       "..   ..  ...\n",
       "123   0    1\n",
       "124   0    1\n",
       "125   1    0\n",
       "126   1    0\n",
       "127   1    0\n",
       "\n",
       "[128 rows x 2 columns]"
      ]
     },
     "execution_count": 26,
     "metadata": {},
     "output_type": "execute_result"
    }
   ],
   "source": [
    "# cross-check \n",
    "brick"
   ]
  },
  {
   "cell_type": "code",
   "execution_count": 27,
   "id": "b3028220",
   "metadata": {},
   "outputs": [
    {
     "data": {
      "text/html": [
       "<div>\n",
       "<style scoped>\n",
       "    .dataframe tbody tr th:only-of-type {\n",
       "        vertical-align: middle;\n",
       "    }\n",
       "\n",
       "    .dataframe tbody tr th {\n",
       "        vertical-align: top;\n",
       "    }\n",
       "\n",
       "    .dataframe thead th {\n",
       "        text-align: right;\n",
       "    }\n",
       "</style>\n",
       "<table border=\"1\" class=\"dataframe\">\n",
       "  <thead>\n",
       "    <tr style=\"text-align: right;\">\n",
       "      <th></th>\n",
       "      <th>East</th>\n",
       "      <th>North</th>\n",
       "      <th>West</th>\n",
       "    </tr>\n",
       "  </thead>\n",
       "  <tbody>\n",
       "    <tr>\n",
       "      <th>0</th>\n",
       "      <td>1</td>\n",
       "      <td>0</td>\n",
       "      <td>0</td>\n",
       "    </tr>\n",
       "    <tr>\n",
       "      <th>1</th>\n",
       "      <td>1</td>\n",
       "      <td>0</td>\n",
       "      <td>0</td>\n",
       "    </tr>\n",
       "    <tr>\n",
       "      <th>2</th>\n",
       "      <td>1</td>\n",
       "      <td>0</td>\n",
       "      <td>0</td>\n",
       "    </tr>\n",
       "    <tr>\n",
       "      <th>3</th>\n",
       "      <td>1</td>\n",
       "      <td>0</td>\n",
       "      <td>0</td>\n",
       "    </tr>\n",
       "    <tr>\n",
       "      <th>4</th>\n",
       "      <td>1</td>\n",
       "      <td>0</td>\n",
       "      <td>0</td>\n",
       "    </tr>\n",
       "    <tr>\n",
       "      <th>...</th>\n",
       "      <td>...</td>\n",
       "      <td>...</td>\n",
       "      <td>...</td>\n",
       "    </tr>\n",
       "    <tr>\n",
       "      <th>123</th>\n",
       "      <td>1</td>\n",
       "      <td>0</td>\n",
       "      <td>0</td>\n",
       "    </tr>\n",
       "    <tr>\n",
       "      <th>124</th>\n",
       "      <td>1</td>\n",
       "      <td>0</td>\n",
       "      <td>0</td>\n",
       "    </tr>\n",
       "    <tr>\n",
       "      <th>125</th>\n",
       "      <td>0</td>\n",
       "      <td>1</td>\n",
       "      <td>0</td>\n",
       "    </tr>\n",
       "    <tr>\n",
       "      <th>126</th>\n",
       "      <td>0</td>\n",
       "      <td>0</td>\n",
       "      <td>1</td>\n",
       "    </tr>\n",
       "    <tr>\n",
       "      <th>127</th>\n",
       "      <td>0</td>\n",
       "      <td>1</td>\n",
       "      <td>0</td>\n",
       "    </tr>\n",
       "  </tbody>\n",
       "</table>\n",
       "<p>128 rows × 3 columns</p>\n",
       "</div>"
      ],
      "text/plain": [
       "     East  North  West\n",
       "0       1      0     0\n",
       "1       1      0     0\n",
       "2       1      0     0\n",
       "3       1      0     0\n",
       "4       1      0     0\n",
       "..    ...    ...   ...\n",
       "123     1      0     0\n",
       "124     1      0     0\n",
       "125     0      1     0\n",
       "126     0      0     1\n",
       "127     0      1     0\n",
       "\n",
       "[128 rows x 3 columns]"
      ]
     },
     "execution_count": 27,
     "metadata": {},
     "output_type": "execute_result"
    }
   ],
   "source": [
    "neighborhood"
   ]
  },
  {
   "cell_type": "markdown",
   "id": "a05ff9ab",
   "metadata": {},
   "source": [
    "**Now we need to concatenate these numeric values in dataset**\n"
   ]
  },
  {
   "cell_type": "code",
   "execution_count": 28,
   "id": "bcb35547",
   "metadata": {},
   "outputs": [],
   "source": [
    "#after converting we need to concatenate new cols (numerical) into dataset\n",
    "final_df = pd.concat([df, brick, neighborhood])\n",
    "\n",
    "final_df = final_df.drop(['Brick', 'Neighborhood'], axis = 1)"
   ]
  },
  {
   "cell_type": "markdown",
   "id": "9a373be2",
   "metadata": {},
   "source": [
    "**Now after that we dont need categorical cols we will remove them from our dataframe**"
   ]
  },
  {
   "cell_type": "code",
   "execution_count": 29,
   "id": "7d830be5",
   "metadata": {},
   "outputs": [
    {
     "data": {
      "text/html": [
       "<div>\n",
       "<style scoped>\n",
       "    .dataframe tbody tr th:only-of-type {\n",
       "        vertical-align: middle;\n",
       "    }\n",
       "\n",
       "    .dataframe tbody tr th {\n",
       "        vertical-align: top;\n",
       "    }\n",
       "\n",
       "    .dataframe thead th {\n",
       "        text-align: right;\n",
       "    }\n",
       "</style>\n",
       "<table border=\"1\" class=\"dataframe\">\n",
       "  <thead>\n",
       "    <tr style=\"text-align: right;\">\n",
       "      <th></th>\n",
       "      <th>Price</th>\n",
       "      <th>SqFt</th>\n",
       "      <th>Bedrooms</th>\n",
       "      <th>Bathrooms</th>\n",
       "      <th>Offers</th>\n",
       "      <th>No</th>\n",
       "      <th>Yes</th>\n",
       "      <th>East</th>\n",
       "      <th>North</th>\n",
       "      <th>West</th>\n",
       "    </tr>\n",
       "  </thead>\n",
       "  <tbody>\n",
       "    <tr>\n",
       "      <th>0</th>\n",
       "      <td>114300.0</td>\n",
       "      <td>1790.0</td>\n",
       "      <td>2.0</td>\n",
       "      <td>2.0</td>\n",
       "      <td>2.0</td>\n",
       "      <td>NaN</td>\n",
       "      <td>NaN</td>\n",
       "      <td>NaN</td>\n",
       "      <td>NaN</td>\n",
       "      <td>NaN</td>\n",
       "    </tr>\n",
       "    <tr>\n",
       "      <th>1</th>\n",
       "      <td>114200.0</td>\n",
       "      <td>2030.0</td>\n",
       "      <td>4.0</td>\n",
       "      <td>2.0</td>\n",
       "      <td>3.0</td>\n",
       "      <td>NaN</td>\n",
       "      <td>NaN</td>\n",
       "      <td>NaN</td>\n",
       "      <td>NaN</td>\n",
       "      <td>NaN</td>\n",
       "    </tr>\n",
       "    <tr>\n",
       "      <th>2</th>\n",
       "      <td>114800.0</td>\n",
       "      <td>1740.0</td>\n",
       "      <td>3.0</td>\n",
       "      <td>2.0</td>\n",
       "      <td>1.0</td>\n",
       "      <td>NaN</td>\n",
       "      <td>NaN</td>\n",
       "      <td>NaN</td>\n",
       "      <td>NaN</td>\n",
       "      <td>NaN</td>\n",
       "    </tr>\n",
       "    <tr>\n",
       "      <th>3</th>\n",
       "      <td>94700.0</td>\n",
       "      <td>1980.0</td>\n",
       "      <td>3.0</td>\n",
       "      <td>2.0</td>\n",
       "      <td>3.0</td>\n",
       "      <td>NaN</td>\n",
       "      <td>NaN</td>\n",
       "      <td>NaN</td>\n",
       "      <td>NaN</td>\n",
       "      <td>NaN</td>\n",
       "    </tr>\n",
       "    <tr>\n",
       "      <th>4</th>\n",
       "      <td>119800.0</td>\n",
       "      <td>2130.0</td>\n",
       "      <td>3.0</td>\n",
       "      <td>3.0</td>\n",
       "      <td>3.0</td>\n",
       "      <td>NaN</td>\n",
       "      <td>NaN</td>\n",
       "      <td>NaN</td>\n",
       "      <td>NaN</td>\n",
       "      <td>NaN</td>\n",
       "    </tr>\n",
       "    <tr>\n",
       "      <th>...</th>\n",
       "      <td>...</td>\n",
       "      <td>...</td>\n",
       "      <td>...</td>\n",
       "      <td>...</td>\n",
       "      <td>...</td>\n",
       "      <td>...</td>\n",
       "      <td>...</td>\n",
       "      <td>...</td>\n",
       "      <td>...</td>\n",
       "      <td>...</td>\n",
       "    </tr>\n",
       "    <tr>\n",
       "      <th>123</th>\n",
       "      <td>NaN</td>\n",
       "      <td>NaN</td>\n",
       "      <td>NaN</td>\n",
       "      <td>NaN</td>\n",
       "      <td>NaN</td>\n",
       "      <td>NaN</td>\n",
       "      <td>NaN</td>\n",
       "      <td>1.0</td>\n",
       "      <td>0.0</td>\n",
       "      <td>0.0</td>\n",
       "    </tr>\n",
       "    <tr>\n",
       "      <th>124</th>\n",
       "      <td>NaN</td>\n",
       "      <td>NaN</td>\n",
       "      <td>NaN</td>\n",
       "      <td>NaN</td>\n",
       "      <td>NaN</td>\n",
       "      <td>NaN</td>\n",
       "      <td>NaN</td>\n",
       "      <td>1.0</td>\n",
       "      <td>0.0</td>\n",
       "      <td>0.0</td>\n",
       "    </tr>\n",
       "    <tr>\n",
       "      <th>125</th>\n",
       "      <td>NaN</td>\n",
       "      <td>NaN</td>\n",
       "      <td>NaN</td>\n",
       "      <td>NaN</td>\n",
       "      <td>NaN</td>\n",
       "      <td>NaN</td>\n",
       "      <td>NaN</td>\n",
       "      <td>0.0</td>\n",
       "      <td>1.0</td>\n",
       "      <td>0.0</td>\n",
       "    </tr>\n",
       "    <tr>\n",
       "      <th>126</th>\n",
       "      <td>NaN</td>\n",
       "      <td>NaN</td>\n",
       "      <td>NaN</td>\n",
       "      <td>NaN</td>\n",
       "      <td>NaN</td>\n",
       "      <td>NaN</td>\n",
       "      <td>NaN</td>\n",
       "      <td>0.0</td>\n",
       "      <td>0.0</td>\n",
       "      <td>1.0</td>\n",
       "    </tr>\n",
       "    <tr>\n",
       "      <th>127</th>\n",
       "      <td>NaN</td>\n",
       "      <td>NaN</td>\n",
       "      <td>NaN</td>\n",
       "      <td>NaN</td>\n",
       "      <td>NaN</td>\n",
       "      <td>NaN</td>\n",
       "      <td>NaN</td>\n",
       "      <td>0.0</td>\n",
       "      <td>1.0</td>\n",
       "      <td>0.0</td>\n",
       "    </tr>\n",
       "  </tbody>\n",
       "</table>\n",
       "<p>384 rows × 10 columns</p>\n",
       "</div>"
      ],
      "text/plain": [
       "        Price    SqFt  Bedrooms  Bathrooms  Offers  No  Yes  East  North  West\n",
       "0    114300.0  1790.0       2.0        2.0     2.0 NaN  NaN   NaN    NaN   NaN\n",
       "1    114200.0  2030.0       4.0        2.0     3.0 NaN  NaN   NaN    NaN   NaN\n",
       "2    114800.0  1740.0       3.0        2.0     1.0 NaN  NaN   NaN    NaN   NaN\n",
       "3     94700.0  1980.0       3.0        2.0     3.0 NaN  NaN   NaN    NaN   NaN\n",
       "4    119800.0  2130.0       3.0        3.0     3.0 NaN  NaN   NaN    NaN   NaN\n",
       "..        ...     ...       ...        ...     ...  ..  ...   ...    ...   ...\n",
       "123       NaN     NaN       NaN        NaN     NaN NaN  NaN   1.0    0.0   0.0\n",
       "124       NaN     NaN       NaN        NaN     NaN NaN  NaN   1.0    0.0   0.0\n",
       "125       NaN     NaN       NaN        NaN     NaN NaN  NaN   0.0    1.0   0.0\n",
       "126       NaN     NaN       NaN        NaN     NaN NaN  NaN   0.0    0.0   1.0\n",
       "127       NaN     NaN       NaN        NaN     NaN NaN  NaN   0.0    1.0   0.0\n",
       "\n",
       "[384 rows x 10 columns]"
      ]
     },
     "execution_count": 29,
     "metadata": {},
     "output_type": "execute_result"
    }
   ],
   "source": [
    "#calling new dataframe\n",
    "final_df"
   ]
  },
  {
   "cell_type": "code",
   "execution_count": 30,
   "id": "058e3e2d",
   "metadata": {},
   "outputs": [
    {
     "name": "stdout",
     "output_type": "stream",
     "text": [
      "The new dataset has 384 rows and 10 columns\n"
     ]
    }
   ],
   "source": [
    "print ('The new dataset has {0} rows and {1} columns'.format(final_df.shape[0],final_df.shape[1]))"
   ]
  },
  {
   "cell_type": "markdown",
   "id": "7d2c50da",
   "metadata": {},
   "source": [
    "**As u can see we have many nan values visible in dataset, lets fill up them by using**"
   ]
  },
  {
   "cell_type": "code",
   "execution_count": 31,
   "id": "567d10f2",
   "metadata": {},
   "outputs": [],
   "source": [
    "final_df = final_df.fillna(value = 0)"
   ]
  },
  {
   "cell_type": "code",
   "execution_count": 32,
   "id": "bbc611b9",
   "metadata": {},
   "outputs": [
    {
     "data": {
      "text/html": [
       "<div>\n",
       "<style scoped>\n",
       "    .dataframe tbody tr th:only-of-type {\n",
       "        vertical-align: middle;\n",
       "    }\n",
       "\n",
       "    .dataframe tbody tr th {\n",
       "        vertical-align: top;\n",
       "    }\n",
       "\n",
       "    .dataframe thead th {\n",
       "        text-align: right;\n",
       "    }\n",
       "</style>\n",
       "<table border=\"1\" class=\"dataframe\">\n",
       "  <thead>\n",
       "    <tr style=\"text-align: right;\">\n",
       "      <th></th>\n",
       "      <th>Price</th>\n",
       "      <th>SqFt</th>\n",
       "      <th>Bedrooms</th>\n",
       "      <th>Bathrooms</th>\n",
       "      <th>Offers</th>\n",
       "      <th>No</th>\n",
       "      <th>Yes</th>\n",
       "      <th>East</th>\n",
       "      <th>North</th>\n",
       "      <th>West</th>\n",
       "    </tr>\n",
       "  </thead>\n",
       "  <tbody>\n",
       "    <tr>\n",
       "      <th>0</th>\n",
       "      <td>114300.0</td>\n",
       "      <td>1790.0</td>\n",
       "      <td>2.0</td>\n",
       "      <td>2.0</td>\n",
       "      <td>2.0</td>\n",
       "      <td>0.0</td>\n",
       "      <td>0.0</td>\n",
       "      <td>0.0</td>\n",
       "      <td>0.0</td>\n",
       "      <td>0.0</td>\n",
       "    </tr>\n",
       "    <tr>\n",
       "      <th>1</th>\n",
       "      <td>114200.0</td>\n",
       "      <td>2030.0</td>\n",
       "      <td>4.0</td>\n",
       "      <td>2.0</td>\n",
       "      <td>3.0</td>\n",
       "      <td>0.0</td>\n",
       "      <td>0.0</td>\n",
       "      <td>0.0</td>\n",
       "      <td>0.0</td>\n",
       "      <td>0.0</td>\n",
       "    </tr>\n",
       "    <tr>\n",
       "      <th>2</th>\n",
       "      <td>114800.0</td>\n",
       "      <td>1740.0</td>\n",
       "      <td>3.0</td>\n",
       "      <td>2.0</td>\n",
       "      <td>1.0</td>\n",
       "      <td>0.0</td>\n",
       "      <td>0.0</td>\n",
       "      <td>0.0</td>\n",
       "      <td>0.0</td>\n",
       "      <td>0.0</td>\n",
       "    </tr>\n",
       "    <tr>\n",
       "      <th>3</th>\n",
       "      <td>94700.0</td>\n",
       "      <td>1980.0</td>\n",
       "      <td>3.0</td>\n",
       "      <td>2.0</td>\n",
       "      <td>3.0</td>\n",
       "      <td>0.0</td>\n",
       "      <td>0.0</td>\n",
       "      <td>0.0</td>\n",
       "      <td>0.0</td>\n",
       "      <td>0.0</td>\n",
       "    </tr>\n",
       "    <tr>\n",
       "      <th>4</th>\n",
       "      <td>119800.0</td>\n",
       "      <td>2130.0</td>\n",
       "      <td>3.0</td>\n",
       "      <td>3.0</td>\n",
       "      <td>3.0</td>\n",
       "      <td>0.0</td>\n",
       "      <td>0.0</td>\n",
       "      <td>0.0</td>\n",
       "      <td>0.0</td>\n",
       "      <td>0.0</td>\n",
       "    </tr>\n",
       "    <tr>\n",
       "      <th>...</th>\n",
       "      <td>...</td>\n",
       "      <td>...</td>\n",
       "      <td>...</td>\n",
       "      <td>...</td>\n",
       "      <td>...</td>\n",
       "      <td>...</td>\n",
       "      <td>...</td>\n",
       "      <td>...</td>\n",
       "      <td>...</td>\n",
       "      <td>...</td>\n",
       "    </tr>\n",
       "    <tr>\n",
       "      <th>123</th>\n",
       "      <td>0.0</td>\n",
       "      <td>0.0</td>\n",
       "      <td>0.0</td>\n",
       "      <td>0.0</td>\n",
       "      <td>0.0</td>\n",
       "      <td>0.0</td>\n",
       "      <td>0.0</td>\n",
       "      <td>1.0</td>\n",
       "      <td>0.0</td>\n",
       "      <td>0.0</td>\n",
       "    </tr>\n",
       "    <tr>\n",
       "      <th>124</th>\n",
       "      <td>0.0</td>\n",
       "      <td>0.0</td>\n",
       "      <td>0.0</td>\n",
       "      <td>0.0</td>\n",
       "      <td>0.0</td>\n",
       "      <td>0.0</td>\n",
       "      <td>0.0</td>\n",
       "      <td>1.0</td>\n",
       "      <td>0.0</td>\n",
       "      <td>0.0</td>\n",
       "    </tr>\n",
       "    <tr>\n",
       "      <th>125</th>\n",
       "      <td>0.0</td>\n",
       "      <td>0.0</td>\n",
       "      <td>0.0</td>\n",
       "      <td>0.0</td>\n",
       "      <td>0.0</td>\n",
       "      <td>0.0</td>\n",
       "      <td>0.0</td>\n",
       "      <td>0.0</td>\n",
       "      <td>1.0</td>\n",
       "      <td>0.0</td>\n",
       "    </tr>\n",
       "    <tr>\n",
       "      <th>126</th>\n",
       "      <td>0.0</td>\n",
       "      <td>0.0</td>\n",
       "      <td>0.0</td>\n",
       "      <td>0.0</td>\n",
       "      <td>0.0</td>\n",
       "      <td>0.0</td>\n",
       "      <td>0.0</td>\n",
       "      <td>0.0</td>\n",
       "      <td>0.0</td>\n",
       "      <td>1.0</td>\n",
       "    </tr>\n",
       "    <tr>\n",
       "      <th>127</th>\n",
       "      <td>0.0</td>\n",
       "      <td>0.0</td>\n",
       "      <td>0.0</td>\n",
       "      <td>0.0</td>\n",
       "      <td>0.0</td>\n",
       "      <td>0.0</td>\n",
       "      <td>0.0</td>\n",
       "      <td>0.0</td>\n",
       "      <td>1.0</td>\n",
       "      <td>0.0</td>\n",
       "    </tr>\n",
       "  </tbody>\n",
       "</table>\n",
       "<p>384 rows × 10 columns</p>\n",
       "</div>"
      ],
      "text/plain": [
       "        Price    SqFt  Bedrooms  Bathrooms  Offers   No  Yes  East  North  \\\n",
       "0    114300.0  1790.0       2.0        2.0     2.0  0.0  0.0   0.0    0.0   \n",
       "1    114200.0  2030.0       4.0        2.0     3.0  0.0  0.0   0.0    0.0   \n",
       "2    114800.0  1740.0       3.0        2.0     1.0  0.0  0.0   0.0    0.0   \n",
       "3     94700.0  1980.0       3.0        2.0     3.0  0.0  0.0   0.0    0.0   \n",
       "4    119800.0  2130.0       3.0        3.0     3.0  0.0  0.0   0.0    0.0   \n",
       "..        ...     ...       ...        ...     ...  ...  ...   ...    ...   \n",
       "123       0.0     0.0       0.0        0.0     0.0  0.0  0.0   1.0    0.0   \n",
       "124       0.0     0.0       0.0        0.0     0.0  0.0  0.0   1.0    0.0   \n",
       "125       0.0     0.0       0.0        0.0     0.0  0.0  0.0   0.0    1.0   \n",
       "126       0.0     0.0       0.0        0.0     0.0  0.0  0.0   0.0    0.0   \n",
       "127       0.0     0.0       0.0        0.0     0.0  0.0  0.0   0.0    1.0   \n",
       "\n",
       "     West  \n",
       "0     0.0  \n",
       "1     0.0  \n",
       "2     0.0  \n",
       "3     0.0  \n",
       "4     0.0  \n",
       "..    ...  \n",
       "123   0.0  \n",
       "124   0.0  \n",
       "125   0.0  \n",
       "126   1.0  \n",
       "127   0.0  \n",
       "\n",
       "[384 rows x 10 columns]"
      ]
     },
     "execution_count": 32,
     "metadata": {},
     "output_type": "execute_result"
    }
   ],
   "source": [
    "final_df"
   ]
  },
  {
   "cell_type": "markdown",
   "id": "434c146e",
   "metadata": {},
   "source": [
    "# NOW, WE HAVE OUR DESIRED DATASET\n",
    "we need to move on to next step"
   ]
  },
  {
   "cell_type": "markdown",
   "id": "6fe6184b",
   "metadata": {},
   "source": [
    "# SKWENESS"
   ]
  },
  {
   "cell_type": "code",
   "execution_count": 33,
   "id": "4d5d7a7c",
   "metadata": {},
   "outputs": [],
   "source": [
    "def right_nor_left(df, int64_lst):\n",
    "    \n",
    "    temp_skewness = ['column', 'skewness_value', 'skewness (+ve or -ve)']\n",
    "    temp_skewness_values  = []\n",
    "    \n",
    "    temp_total = [\"positive (+ve) skewed\", \"normal distrbution\" , \"negative (-ve) skewed\"]\n",
    "    positive = 0\n",
    "    negative = 0\n",
    "    normal = 0\n",
    "    \n",
    "    for value in int64_lst:\n",
    "    \n",
    "        rs = round(df[value].skew(),4)\n",
    "\n",
    "        if rs > 0:\n",
    "            temp_skewness_values.append([value,rs , \"positive (+ve) skewed\"])   \n",
    "            positive = positive + 1\n",
    "\n",
    "        elif rs == 0:\n",
    "            temp_skewness_values.append([value,rs,\"normal distrbution\"])\n",
    "            normal = normal + 1\n",
    "\n",
    "        elif rs < 0:\n",
    "            temp_skewness_values.append([value,rs, \"negative (-ve) skewed\"])\n",
    "            negative = negative + 1\n",
    "    \n",
    "    skewness_df =  pd.DataFrame(temp_skewness_values, columns=temp_skewness) \n",
    "    skewness_total_df =  pd.DataFrame([[positive, normal, negative]], columns=temp_total) \n",
    "    \n",
    "    return skewness_df, skewness_total_df"
   ]
  },
  {
   "cell_type": "code",
   "execution_count": 34,
   "id": "43118c92",
   "metadata": {},
   "outputs": [],
   "source": [
    "int64_cols = ['int64']\n",
    "int64_lst_col = list(df.select_dtypes(include=int64_cols).columns)\n",
    "\n",
    "skew_df,skew_total_df = right_nor_left(df, int64_lst_col)"
   ]
  },
  {
   "cell_type": "code",
   "execution_count": 35,
   "id": "5d449218",
   "metadata": {},
   "outputs": [
    {
     "data": {
      "text/html": [
       "<div>\n",
       "<style scoped>\n",
       "    .dataframe tbody tr th:only-of-type {\n",
       "        vertical-align: middle;\n",
       "    }\n",
       "\n",
       "    .dataframe tbody tr th {\n",
       "        vertical-align: top;\n",
       "    }\n",
       "\n",
       "    .dataframe thead th {\n",
       "        text-align: right;\n",
       "    }\n",
       "</style>\n",
       "<table border=\"1\" class=\"dataframe\">\n",
       "  <thead>\n",
       "    <tr style=\"text-align: right;\">\n",
       "      <th></th>\n",
       "      <th>column</th>\n",
       "      <th>skewness_value</th>\n",
       "      <th>skewness (+ve or -ve)</th>\n",
       "    </tr>\n",
       "  </thead>\n",
       "  <tbody>\n",
       "    <tr>\n",
       "      <th>0</th>\n",
       "      <td>Price</td>\n",
       "      <td>0.4729</td>\n",
       "      <td>positive (+ve) skewed</td>\n",
       "    </tr>\n",
       "    <tr>\n",
       "      <th>1</th>\n",
       "      <td>SqFt</td>\n",
       "      <td>0.0785</td>\n",
       "      <td>positive (+ve) skewed</td>\n",
       "    </tr>\n",
       "    <tr>\n",
       "      <th>2</th>\n",
       "      <td>Bedrooms</td>\n",
       "      <td>0.2152</td>\n",
       "      <td>positive (+ve) skewed</td>\n",
       "    </tr>\n",
       "    <tr>\n",
       "      <th>3</th>\n",
       "      <td>Bathrooms</td>\n",
       "      <td>0.3986</td>\n",
       "      <td>positive (+ve) skewed</td>\n",
       "    </tr>\n",
       "    <tr>\n",
       "      <th>4</th>\n",
       "      <td>Offers</td>\n",
       "      <td>0.2839</td>\n",
       "      <td>positive (+ve) skewed</td>\n",
       "    </tr>\n",
       "  </tbody>\n",
       "</table>\n",
       "</div>"
      ],
      "text/plain": [
       "      column  skewness_value  skewness (+ve or -ve)\n",
       "0      Price          0.4729  positive (+ve) skewed\n",
       "1       SqFt          0.0785  positive (+ve) skewed\n",
       "2   Bedrooms          0.2152  positive (+ve) skewed\n",
       "3  Bathrooms          0.3986  positive (+ve) skewed\n",
       "4     Offers          0.2839  positive (+ve) skewed"
      ]
     },
     "execution_count": 35,
     "metadata": {},
     "output_type": "execute_result"
    }
   ],
   "source": [
    "skew_df"
   ]
  },
  {
   "cell_type": "code",
   "execution_count": 36,
   "id": "5cb35da1",
   "metadata": {},
   "outputs": [
    {
     "data": {
      "text/html": [
       "<div>\n",
       "<style scoped>\n",
       "    .dataframe tbody tr th:only-of-type {\n",
       "        vertical-align: middle;\n",
       "    }\n",
       "\n",
       "    .dataframe tbody tr th {\n",
       "        vertical-align: top;\n",
       "    }\n",
       "\n",
       "    .dataframe thead th {\n",
       "        text-align: right;\n",
       "    }\n",
       "</style>\n",
       "<table border=\"1\" class=\"dataframe\">\n",
       "  <thead>\n",
       "    <tr style=\"text-align: right;\">\n",
       "      <th></th>\n",
       "      <th>positive (+ve) skewed</th>\n",
       "      <th>normal distrbution</th>\n",
       "      <th>negative (-ve) skewed</th>\n",
       "    </tr>\n",
       "  </thead>\n",
       "  <tbody>\n",
       "    <tr>\n",
       "      <th>0</th>\n",
       "      <td>5</td>\n",
       "      <td>0</td>\n",
       "      <td>0</td>\n",
       "    </tr>\n",
       "  </tbody>\n",
       "</table>\n",
       "</div>"
      ],
      "text/plain": [
       "   positive (+ve) skewed  normal distrbution  negative (-ve) skewed\n",
       "0                      5                   0                      0"
      ]
     },
     "execution_count": 36,
     "metadata": {},
     "output_type": "execute_result"
    }
   ],
   "source": [
    "skew_total_df"
   ]
  },
  {
   "cell_type": "markdown",
   "id": "24a0d9b5",
   "metadata": {},
   "source": [
    "We notice with the above results that we have following details:\n",
    "1. 5 columns are positive skewed"
   ]
  },
  {
   "cell_type": "markdown",
   "id": "4adad29e",
   "metadata": {},
   "source": [
    "# Step 4: Data Exploration\n",
    "\n",
    "Goal/Purpose:-\n",
    "Graphs we are going to develop in this step\n",
    "\n",
    "1. Histogram of all columns to check the distrubution of the columns\n",
    "2. Distplot or distribution plot of all columns to check the variation in the data distribution\n",
    "3. Heatmap to calculate correlation within feature variables\n",
    "4. Boxplot to find out outlier in the feature columns"
   ]
  },
  {
   "cell_type": "markdown",
   "id": "807bf54a",
   "metadata": {},
   "source": [
    "# 1. Histogram"
   ]
  },
  {
   "cell_type": "code",
   "execution_count": 37,
   "id": "716d7e53",
   "metadata": {},
   "outputs": [
    {
     "data": {
      "image/png": "[encoded data removed]",
      "text/plain": [
       "<Figure size 2160x1440 with 12 Axes>"
      ]
     },
     "metadata": {
      "needs_background": "light"
     },
     "output_type": "display_data"
    }
   ],
   "source": [
    "# Distribution in attributes\n",
    "%matplotlib inline\n",
    "import matplotlib.pyplot as plt\n",
    "final_df.hist(bins=50, figsize=(30,20))\n",
    "plt.show()"
   ]
  },
  {
   "cell_type": "markdown",
   "id": "cff3df6a",
   "metadata": {},
   "source": [
    "# 2. Distplot"
   ]
  },
  {
   "cell_type": "code",
   "execution_count": 38,
   "id": "105083f1",
   "metadata": {},
   "outputs": [
    {
     "data": {
      "text/plain": [
       "<seaborn.axisgrid.FacetGrid at 0x7fda6b47fe50>"
      ]
     },
     "execution_count": 38,
     "metadata": {},
     "output_type": "execute_result"
    },
    {
     "data": {
      "image/png": "[encoded data removed]",
      "text/plain": [
       "<Figure size 864x648 with 10 Axes>"
      ]
     },
     "metadata": {
      "needs_background": "light"
     },
     "output_type": "display_data"
    }
   ],
   "source": [
    "num = [f for f in final_df.columns if final_df.dtypes[f] != 'object']\n",
    "nd = pd.melt(final_df, value_vars = num)\n",
    "n1 = sns.FacetGrid (nd, col='variable', col_wrap=4, sharex=False, sharey = False)\n",
    "n1 = n1.map(sns.distplot, 'value')\n",
    "n1"
   ]
  },
  {
   "cell_type": "markdown",
   "id": "7f3f92e7",
   "metadata": {},
   "source": [
    "above we draw distrution bar graphs to confirm about statiscts of the data that we got our data have skewness so here also we notice with the above results that we have following details:\n",
    "1. 5 columns are positive skewed"
   ]
  },
  {
   "cell_type": "markdown",
   "id": "94f339b6",
   "metadata": {},
   "source": [
    "# 3. Heatmap\n",
    "\n",
    "\n",
    "**Correlation within feature variables**\n",
    "\n",
    "*Correlation - A positive correlation is a relationship between two variables in which both variables move in the same direction. Therefore, when one variable increases as the other variable increases, or one variable decreases while the other decreases.*\n",
    "\n",
    "**Correlation can have a value:**\n",
    "\n",
    "- 1 is a perfect positive correlation\n",
    "- 0 is no correlation (the values don't seem linked at all)\n",
    "- -1 is a perfect negative correlation"
   ]
  },
  {
   "cell_type": "code",
   "execution_count": 39,
   "id": "a9a47ada",
   "metadata": {},
   "outputs": [
    {
     "data": {
      "image/png": "[encoded data removed]",
      "text/plain": [
       "<Figure size 432x288 with 2 Axes>"
      ]
     },
     "metadata": {
      "needs_background": "light"
     },
     "output_type": "display_data"
    }
   ],
   "source": [
    "#correlation plot\n",
    "corr = final_df.corr().abs()\n",
    "sns.heatmap(corr)\n",
    "plt.show()"
   ]
  },
  {
   "cell_type": "code",
   "execution_count": 40,
   "id": "bbece601",
   "metadata": {},
   "outputs": [
    {
     "data": {
      "text/html": [
       "<div>\n",
       "<style scoped>\n",
       "    .dataframe tbody tr th:only-of-type {\n",
       "        vertical-align: middle;\n",
       "    }\n",
       "\n",
       "    .dataframe tbody tr th {\n",
       "        vertical-align: top;\n",
       "    }\n",
       "\n",
       "    .dataframe thead th {\n",
       "        text-align: right;\n",
       "    }\n",
       "</style>\n",
       "<table border=\"1\" class=\"dataframe\">\n",
       "  <thead>\n",
       "    <tr style=\"text-align: right;\">\n",
       "      <th></th>\n",
       "      <th>Price</th>\n",
       "      <th>SqFt</th>\n",
       "      <th>Bedrooms</th>\n",
       "      <th>Bathrooms</th>\n",
       "      <th>Offers</th>\n",
       "      <th>No</th>\n",
       "      <th>Yes</th>\n",
       "      <th>East</th>\n",
       "      <th>North</th>\n",
       "      <th>West</th>\n",
       "    </tr>\n",
       "  </thead>\n",
       "  <tbody>\n",
       "    <tr>\n",
       "      <th>Price</th>\n",
       "      <td>1.000000</td>\n",
       "      <td>0.979115</td>\n",
       "      <td>0.966768</td>\n",
       "      <td>0.971098</td>\n",
       "      <td>0.830853</td>\n",
       "      <td>0.368406</td>\n",
       "      <td>0.240324</td>\n",
       "      <td>0.249857</td>\n",
       "      <td>0.246702</td>\n",
       "      <td>0.230573</td>\n",
       "    </tr>\n",
       "    <tr>\n",
       "      <th>SqFt</th>\n",
       "      <td>0.979115</td>\n",
       "      <td>1.000000</td>\n",
       "      <td>0.969189</td>\n",
       "      <td>0.977269</td>\n",
       "      <td>0.904405</td>\n",
       "      <td>0.376741</td>\n",
       "      <td>0.245761</td>\n",
       "      <td>0.255510</td>\n",
       "      <td>0.252283</td>\n",
       "      <td>0.235789</td>\n",
       "    </tr>\n",
       "    <tr>\n",
       "      <th>Bedrooms</th>\n",
       "      <td>0.966768</td>\n",
       "      <td>0.969189</td>\n",
       "      <td>1.000000</td>\n",
       "      <td>0.958517</td>\n",
       "      <td>0.870799</td>\n",
       "      <td>0.364545</td>\n",
       "      <td>0.237805</td>\n",
       "      <td>0.247238</td>\n",
       "      <td>0.244116</td>\n",
       "      <td>0.228156</td>\n",
       "    </tr>\n",
       "    <tr>\n",
       "      <th>Bathrooms</th>\n",
       "      <td>0.971098</td>\n",
       "      <td>0.977269</td>\n",
       "      <td>0.958517</td>\n",
       "      <td>1.000000</td>\n",
       "      <td>0.880401</td>\n",
       "      <td>0.367935</td>\n",
       "      <td>0.240017</td>\n",
       "      <td>0.249538</td>\n",
       "      <td>0.246387</td>\n",
       "      <td>0.230278</td>\n",
       "    </tr>\n",
       "    <tr>\n",
       "      <th>Offers</th>\n",
       "      <td>0.830853</td>\n",
       "      <td>0.904405</td>\n",
       "      <td>0.870799</td>\n",
       "      <td>0.880401</td>\n",
       "      <td>1.000000</td>\n",
       "      <td>0.338942</td>\n",
       "      <td>0.221104</td>\n",
       "      <td>0.229875</td>\n",
       "      <td>0.226972</td>\n",
       "      <td>0.212133</td>\n",
       "    </tr>\n",
       "    <tr>\n",
       "      <th>No</th>\n",
       "      <td>0.368406</td>\n",
       "      <td>0.376741</td>\n",
       "      <td>0.364545</td>\n",
       "      <td>0.367935</td>\n",
       "      <td>0.338942</td>\n",
       "      <td>1.000000</td>\n",
       "      <td>0.188258</td>\n",
       "      <td>0.195726</td>\n",
       "      <td>0.193254</td>\n",
       "      <td>0.180619</td>\n",
       "    </tr>\n",
       "    <tr>\n",
       "      <th>Yes</th>\n",
       "      <td>0.240324</td>\n",
       "      <td>0.245761</td>\n",
       "      <td>0.237805</td>\n",
       "      <td>0.240017</td>\n",
       "      <td>0.221104</td>\n",
       "      <td>0.188258</td>\n",
       "      <td>1.000000</td>\n",
       "      <td>0.127679</td>\n",
       "      <td>0.126066</td>\n",
       "      <td>0.117824</td>\n",
       "    </tr>\n",
       "    <tr>\n",
       "      <th>East</th>\n",
       "      <td>0.249857</td>\n",
       "      <td>0.255510</td>\n",
       "      <td>0.247238</td>\n",
       "      <td>0.249538</td>\n",
       "      <td>0.229875</td>\n",
       "      <td>0.195726</td>\n",
       "      <td>0.127679</td>\n",
       "      <td>1.000000</td>\n",
       "      <td>0.131067</td>\n",
       "      <td>0.122498</td>\n",
       "    </tr>\n",
       "    <tr>\n",
       "      <th>North</th>\n",
       "      <td>0.246702</td>\n",
       "      <td>0.252283</td>\n",
       "      <td>0.244116</td>\n",
       "      <td>0.246387</td>\n",
       "      <td>0.226972</td>\n",
       "      <td>0.193254</td>\n",
       "      <td>0.126066</td>\n",
       "      <td>0.131067</td>\n",
       "      <td>1.000000</td>\n",
       "      <td>0.120951</td>\n",
       "    </tr>\n",
       "    <tr>\n",
       "      <th>West</th>\n",
       "      <td>0.230573</td>\n",
       "      <td>0.235789</td>\n",
       "      <td>0.228156</td>\n",
       "      <td>0.230278</td>\n",
       "      <td>0.212133</td>\n",
       "      <td>0.180619</td>\n",
       "      <td>0.117824</td>\n",
       "      <td>0.122498</td>\n",
       "      <td>0.120951</td>\n",
       "      <td>1.000000</td>\n",
       "    </tr>\n",
       "  </tbody>\n",
       "</table>\n",
       "</div>"
      ],
      "text/plain": [
       "              Price      SqFt  Bedrooms  Bathrooms    Offers        No  \\\n",
       "Price      1.000000  0.979115  0.966768   0.971098  0.830853  0.368406   \n",
       "SqFt       0.979115  1.000000  0.969189   0.977269  0.904405  0.376741   \n",
       "Bedrooms   0.966768  0.969189  1.000000   0.958517  0.870799  0.364545   \n",
       "Bathrooms  0.971098  0.977269  0.958517   1.000000  0.880401  0.367935   \n",
       "Offers     0.830853  0.904405  0.870799   0.880401  1.000000  0.338942   \n",
       "No         0.368406  0.376741  0.364545   0.367935  0.338942  1.000000   \n",
       "Yes        0.240324  0.245761  0.237805   0.240017  0.221104  0.188258   \n",
       "East       0.249857  0.255510  0.247238   0.249538  0.229875  0.195726   \n",
       "North      0.246702  0.252283  0.244116   0.246387  0.226972  0.193254   \n",
       "West       0.230573  0.235789  0.228156   0.230278  0.212133  0.180619   \n",
       "\n",
       "                Yes      East     North      West  \n",
       "Price      0.240324  0.249857  0.246702  0.230573  \n",
       "SqFt       0.245761  0.255510  0.252283  0.235789  \n",
       "Bedrooms   0.237805  0.247238  0.244116  0.228156  \n",
       "Bathrooms  0.240017  0.249538  0.246387  0.230278  \n",
       "Offers     0.221104  0.229875  0.226972  0.212133  \n",
       "No         0.188258  0.195726  0.193254  0.180619  \n",
       "Yes        1.000000  0.127679  0.126066  0.117824  \n",
       "East       0.127679  1.000000  0.131067  0.122498  \n",
       "North      0.126066  0.131067  1.000000  0.120951  \n",
       "West       0.117824  0.122498  0.120951  1.000000  "
      ]
     },
     "execution_count": 40,
     "metadata": {},
     "output_type": "execute_result"
    }
   ],
   "source": [
    "corr"
   ]
  },
  {
   "cell_type": "markdown",
   "id": "d46c9fe0",
   "metadata": {},
   "source": [
    "as we know, it is recommended to avoid having correlated features in your dataset. Indeed, a group of highly correlated features will not bring additional information (or just very few), but will increase the complexity of the algorithm, thus increasing the risk of errors.\n"
   ]
  },
  {
   "cell_type": "code",
   "execution_count": 41,
   "id": "e1b492bc",
   "metadata": {},
   "outputs": [],
   "source": [
    "# Create correlation matrix\n",
    "corr_matrix = df.corr().abs()\n",
    "\n",
    "# Select upper triangle of correlation matrix\n",
    "upper = corr_matrix.where(np.triu(np.ones(corr_matrix.shape), k=1).astype(np.bool))\n",
    "\n",
    "# Find index of feature columns with correlation greater than 0.8\n",
    "to_drop = [column for column in upper.columns if any(upper[column] > 0.8)]"
   ]
  },
  {
   "cell_type": "code",
   "execution_count": 46,
   "id": "a10c43e9",
   "metadata": {},
   "outputs": [
    {
     "data": {
      "text/plain": [
       "[]"
      ]
     },
     "execution_count": 46,
     "metadata": {},
     "output_type": "execute_result"
    }
   ],
   "source": [
    "to_drop"
   ]
  },
  {
   "cell_type": "markdown",
   "id": "7eec9e25",
   "metadata": {},
   "source": [
    "As it's not giving any cols to drop, we will move on to next step"
   ]
  },
  {
   "cell_type": "markdown",
   "id": "fc257ea4",
   "metadata": {},
   "source": [
    "# 4. Scatter plot (of target with various features)"
   ]
  },
  {
   "cell_type": "code",
   "execution_count": 42,
   "id": "c961e65d",
   "metadata": {},
   "outputs": [],
   "source": [
    "cols = ['SqFt','Bedrooms', 'Bathrooms', 'Offers', 'No', 'Yes', 'East', 'North','West']"
   ]
  },
  {
   "cell_type": "code",
   "execution_count": 43,
   "id": "98908bee",
   "metadata": {},
   "outputs": [
    {
     "data": {
      "image/png": "[encoded data removed]",
      "text/plain": [
       "<Figure size 360x360 with 1 Axes>"
      ]
     },
     "metadata": {
      "needs_background": "light"
     },
     "output_type": "display_data"
    },
    {
     "data": {
      "image/png": "[encoded data removed]",
      "text/plain": [
       "<Figure size 360x360 with 1 Axes>"
      ]
     },
     "metadata": {
      "needs_background": "light"
     },
     "output_type": "display_data"
    },
    {
     "data": {
      "image/png": "[encoded data removed]",
      "text/plain": [
       "<Figure size 360x360 with 1 Axes>"
      ]
     },
     "metadata": {
      "needs_background": "light"
     },
     "output_type": "display_data"
    },
    {
     "data": {
      "image/png": "[encoded data removed]",
      "text/plain": [
       "<Figure size 360x360 with 1 Axes>"
      ]
     },
     "metadata": {
      "needs_background": "light"
     },
     "output_type": "display_data"
    },
    {
     "data": {
      "image/png": "[encoded data removed]",
      "text/plain": [
       "<Figure size 360x360 with 1 Axes>"
      ]
     },
     "metadata": {
      "needs_background": "light"
     },
     "output_type": "display_data"
    },
    {
     "data": {
      "image/png": "[encoded data removed]",
      "text/plain": [
       "<Figure size 360x360 with 1 Axes>"
      ]
     },
     "metadata": {
      "needs_background": "light"
     },
     "output_type": "display_data"
    },
    {
     "data": {
      "image/png": "[encoded data removed]",
      "text/plain": [
       "<Figure size 360x360 with 1 Axes>"
      ]
     },
     "metadata": {
      "needs_background": "light"
     },
     "output_type": "display_data"
    },
    {
     "data": {
      "image/png": "[encoded data removed]",
      "text/plain": [
       "<Figure size 360x360 with 1 Axes>"
      ]
     },
     "metadata": {
      "needs_background": "light"
     },
     "output_type": "display_data"
    },
    {
     "data": {
      "image/png": "[encoded data removed]",
      "text/plain": [
       "<Figure size 360x360 with 1 Axes>"
      ]
     },
     "metadata": {
      "needs_background": "light"
     },
     "output_type": "display_data"
    }
   ],
   "source": [
    "for value in cols:\n",
    "    sns.lmplot(x=value, y=\"Price\", data=final_df);\n",
    "\n",
    "plt.show()\n"
   ]
  },
  {
   "cell_type": "markdown",
   "id": "55a1b134",
   "metadata": {},
   "source": [
    "# 5. Boxplot"
   ]
  },
  {
   "cell_type": "markdown",
   "id": "6f26d754",
   "metadata": {},
   "source": [
    "In statistics, an outlier is a data point that differs significantly from other observations. An outlier may be due to variability in the measurement or it may indicate experimental error; the latter are sometimes excluded from the data set."
   ]
  },
  {
   "cell_type": "code",
   "execution_count": 44,
   "id": "1acf656d",
   "metadata": {},
   "outputs": [
    {
     "data": {
      "image/png": "[encoded data removed]",
      "text/plain": [
       "<Figure size 360x360 with 1 Axes>"
      ]
     },
     "metadata": {
      "needs_background": "light"
     },
     "output_type": "display_data"
    },
    {
     "data": {
      "image/png": "[encoded data removed]",
      "text/plain": [
       "<Figure size 360x360 with 1 Axes>"
      ]
     },
     "metadata": {
      "needs_background": "light"
     },
     "output_type": "display_data"
    },
    {
     "data": {
      "image/png": "[encoded data removed]",
      "text/plain": [
       "<Figure size 360x360 with 1 Axes>"
      ]
     },
     "metadata": {
      "needs_background": "light"
     },
     "output_type": "display_data"
    },
    {
     "data": {
      "image/png": "[encoded data removed]",
      "text/plain": [
       "<Figure size 360x360 with 1 Axes>"
      ]
     },
     "metadata": {
      "needs_background": "light"
     },
     "output_type": "display_data"
    },
    {
     "data": {
      "image/png": "[encoded data removed]",
      "text/plain": [
       "<Figure size 360x360 with 1 Axes>"
      ]
     },
     "metadata": {
      "needs_background": "light"
     },
     "output_type": "display_data"
    }
   ],
   "source": [
    "for value in int64_lst_col:\n",
    "    sns.catplot(data=df, x=value, kind=\"box\")\n",
    "    \n",
    "plt.show()"
   ]
  },
  {
   "cell_type": "markdown",
   "id": "531b811e",
   "metadata": {},
   "source": [
    "As u can see there are outliers in the int64_lst_cols \n",
    "but they are no that major so we let it slide"
   ]
  },
  {
   "cell_type": "markdown",
   "id": "040a1399",
   "metadata": {},
   "source": [
    "# Step 5: Saving the preprocess dataframe to csv for model training purpose"
   ]
  },
  {
   "cell_type": "code",
   "execution_count": 45,
   "id": "6f23ea10",
   "metadata": {},
   "outputs": [],
   "source": [
    "final_df.to_csv('house_df2.csv')"
   ]
  }
 ],
 "metadata": {
  "kernelspec": {
   "display_name": "Python 3 (ipykernel)",
   "language": "python",
   "name": "python3"
  },
  "language_info": {
   "codemirror_mode": {
    "name": "ipython",
    "version": 3
   },
   "file_extension": ".py",
   "mimetype": "text/x-python",
   "name": "python",
   "nbconvert_exporter": "python",
   "pygments_lexer": "ipython3",
   "version": "3.11.3"
  },
  "varInspector": {
   "cols": {
    "lenName": 16,
    "lenType": 16,
    "lenVar": 40
   },
   "kernels_config": {
    "python": {
     "delete_cmd_postfix": "",
     "delete_cmd_prefix": "del ",
     "library": "var_list.py",
     "varRefreshCmd": "print(var_dic_list())"
    },
    "r": {
     "delete_cmd_postfix": ") ",
     "delete_cmd_prefix": "rm(",
     "library": "var_list.r",
     "varRefreshCmd": "cat(var_dic_list()) "
    }
   },
   "types_to_exclude": [
    "module",
    "function",
    "builtin_function_or_method",
    "instance",
    "_Feature"
   ],
   "window_display": false
  }
 },
 "nbformat": 4,
 "nbformat_minor": 5
}
